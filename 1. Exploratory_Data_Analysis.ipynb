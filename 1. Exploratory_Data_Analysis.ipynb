{
  "nbformat": 4,
  "nbformat_minor": 0,
  "metadata": {
    "colab": {
      "name": "Exploratory Data Analysis File to Jane for Updates.ipynb",
      "provenance": [],
      "collapsed_sections": [],
      "toc_visible": true,
      "include_colab_link": true
    },
    "kernelspec": {
      "display_name": "Python 3",
      "language": "python",
      "name": "python3"
    },
    "language_info": {
      "codemirror_mode": {
        "name": "ipython",
        "version": 3
      },
      "file_extension": ".py",
      "mimetype": "text/x-python",
      "name": "python",
      "nbconvert_exporter": "python",
      "pygments_lexer": "ipython3",
      "version": "3.6.4"
    }
  },
  "cells": [
    {
      "cell_type": "markdown",
      "metadata": {
        "id": "view-in-github",
        "colab_type": "text"
      },
      "source": [
        "<a href=\"https://colab.research.google.com/github/snehathth/Statistics-and-Data-Science/blob/main/1.%20Exploratory_Data_Analysis.ipynb\" target=\"_parent\"><img src=\"https://colab.research.google.com/assets/colab-badge.svg\" alt=\"Open In Colab\"/></a>"
      ]
    },
    {
      "cell_type": "markdown",
      "metadata": {
        "id": "h1zrerfX5AFf"
      },
      "source": [
        "<center>\r\n",
        "<img src=\"https://drive.google.com/uc?export=view&id=1ctsO4yZXGpWAJ8zmRye_A2qzBtX2FSdY\" width=\"600\" align=\"center\"></center>\r\n",
        "\r\n",
        "<center>\r\n",
        "<img src=\"https://drive.google.com/uc?export=view&id=1_zDfmN5WlIck_UafU7hn9OdLgO-QiJQ0\" width=\"600\" align=\"center\"></center>"
      ]
    },
    {
      "cell_type": "markdown",
      "metadata": {
        "id": "qS15WBE6XsfQ"
      },
      "source": [
        "#**Exploratory Data Analysis with Python**"
      ]
    },
    {
      "cell_type": "markdown",
      "metadata": {
        "id": "6QBJ03EzXsfW"
      },
      "source": [
        "Exploratory data analysis (EDA) is a very important step which takes place after data acquisition and  should be done before any modeling. This is because it is very important for a data scientist to be able to understand the nature of the data without making assumptions.\n",
        "\n",
        "The purpose of EDA is to use statistical summary and visualizations to better understand data, and find clues about the tendencies of the data, its quality and to formulate assumptions and the hypothesis of our analysis. "
      ]
    },
    {
      "cell_type": "markdown",
      "metadata": {
        "id": "pPe6gZlXaaUl"
      },
      "source": [
        "![Alt](https://drive.google.com/uc?id=1ml3iGEXcvRjWAVHCY2gJ3bG-UcDxXaYQ)\r\n",
        "\r\n",
        "Source: Farcaster at English Wikipedia"
      ]
    },
    {
      "cell_type": "markdown",
      "metadata": {
        "id": "qWBeuuZVXsfY"
      },
      "source": [
        "#**Structured Data**"
      ]
    },
    {
      "cell_type": "markdown",
      "metadata": {
        "id": "WuxfKMhXXsfY"
      },
      "source": [
        "Structured data is data that is organized and is straightforward to analyse such as numerical and categorical data. Structured data conforms to a tabular format with relationship between the different rows and columns. Common examples of structured data are Excel files or SQL databases. Each of these have structured rows and columns that can be sorted.\n",
        "The two types of structured we commonly deal with are categorical variables (which have a finite set of values) and numerical values (which are continuous).\n"
      ]
    },
    {
      "cell_type": "markdown",
      "metadata": {
        "id": "P8vuwuuwXsfZ"
      },
      "source": [
        "###**Categorical Data(Qualitative)**"
      ]
    },
    {
      "cell_type": "markdown",
      "metadata": {
        "id": "3IoqiV4_XsfZ"
      },
      "source": [
        "Categorical data can be counted, grouped and sometimes ranked in order of importance.Categorical variables can also be nominal or ordinal. Nominal data has no intrinsic ordering to the categories. For example gender (Male, Female, Other) has no specific ordering. Ordinal data as clear ordering such as three settings on a toaster (high,medium and low). "
      ]
    },
    {
      "cell_type": "markdown",
      "metadata": {
        "id": "kK-0gZTdXsfa"
      },
      "source": [
        "Nominal data analyisis is done by grouping input variables into categories and calculating the percentage or mode of the distribution, while ordinal data is analysed by computing the mode, median and other positional measures like quartiles, percentiles, etc. \n",
        "\n",
        "Binary data is an important special case of categorical data that takes on only one of two values, such as 0/1, yes/no, or true/false. Another useful type of categorical data is ordinal data in which the categories are ordered; an example of this is a numerical rating (1, 2, 3, 4, or 5)."
      ]
    },
    {
      "cell_type": "markdown",
      "metadata": {
        "id": "iPKS5ZN6Xsfb"
      },
      "source": [
        "###**Numerical Data(Quantitative)**"
      ]
    },
    {
      "cell_type": "markdown",
      "metadata": {
        "id": "AMbRvRn_Xsfc"
      },
      "source": [
        "These data have meaning as a measurement, such as a person’s height, weight, IQ, or blood pressure; or they’re a count, such as the number of stock shares a person owns, how many teeth a dog has, or how many pages you can read of your favorite book before you fall asleep. \n",
        "\n",
        "Numerical data can be further broken into two types: discrete and continuous.\n",
        "\n",
        "Discrete data represent items that can be counted; they take on possible values that can be listed out. The list of possible values may be fixed (also called finite); or it may go from 0, 1, 2, on to infinity (making it countably infinite). For example, the number of heads in 100 coin flips takes on values from 0 through 100 (finite case), but the number of flips needed to get 100 heads takes on values from 100 (the fastest scenario) on up to infinity (if you never get to that 100th heads).\n",
        "\n",
        "Continuous data represent measurements; their possible values cannot be counted and can only be described using intervals on the real number line. For example, the exact amount of gas purchased at the pump for cars with 20-gallon tanks would be continuous data from 0 gallons to 20 gallons, represented by the interval [0, 20], inclusive. You might pump 8.40 gallons, or 8.41, or 8.414863 gallons, or any possible number from 0 to 20. In this way, continuous data can be thought of as being uncountably infinite. \n",
        "\n",
        " "
      ]
    },
    {
      "cell_type": "code",
      "metadata": {
        "id": "Kdsn5pqhXsfo"
      },
      "source": [
        "import pandas as pd\n",
        "import numpy as np\n",
        "import matplotlib.pyplot as plt\n",
        "import seaborn as sns\n",
        "%matplotlib inline "
      ],
      "execution_count": 3,
      "outputs": []
    },
    {
      "cell_type": "code",
      "metadata": {
        "colab": {
          "base_uri": "https://localhost:8080/",
          "height": 312
        },
        "id": "4b7dSjEFXsfp",
        "outputId": "976502a4-ad8b-4f53-fd8a-cec2f592134d"
      },
      "source": [
        "path = r'/content/Automobile_data.csv'\n",
        "df = pd.read_csv(path)\n",
        "df.head()"
      ],
      "execution_count": 4,
      "outputs": [
        {
          "output_type": "execute_result",
          "data": {
            "text/html": [
              "<div>\n",
              "<style scoped>\n",
              "    .dataframe tbody tr th:only-of-type {\n",
              "        vertical-align: middle;\n",
              "    }\n",
              "\n",
              "    .dataframe tbody tr th {\n",
              "        vertical-align: top;\n",
              "    }\n",
              "\n",
              "    .dataframe thead th {\n",
              "        text-align: right;\n",
              "    }\n",
              "</style>\n",
              "<table border=\"1\" class=\"dataframe\">\n",
              "  <thead>\n",
              "    <tr style=\"text-align: right;\">\n",
              "      <th></th>\n",
              "      <th>symboling</th>\n",
              "      <th>normalized-losses</th>\n",
              "      <th>make</th>\n",
              "      <th>fuel-type</th>\n",
              "      <th>aspiration</th>\n",
              "      <th>num-of-doors</th>\n",
              "      <th>body-style</th>\n",
              "      <th>drive-wheels</th>\n",
              "      <th>engine-location</th>\n",
              "      <th>wheel-base</th>\n",
              "      <th>length</th>\n",
              "      <th>width</th>\n",
              "      <th>height</th>\n",
              "      <th>curb-weight</th>\n",
              "      <th>engine-type</th>\n",
              "      <th>num-of-cylinders</th>\n",
              "      <th>engine-size</th>\n",
              "      <th>fuel-system</th>\n",
              "      <th>bore</th>\n",
              "      <th>stroke</th>\n",
              "      <th>compression-ratio</th>\n",
              "      <th>horsepower</th>\n",
              "      <th>peak-rpm</th>\n",
              "      <th>city-mpg</th>\n",
              "      <th>highway-mpg</th>\n",
              "      <th>price</th>\n",
              "    </tr>\n",
              "  </thead>\n",
              "  <tbody>\n",
              "    <tr>\n",
              "      <th>0</th>\n",
              "      <td>3</td>\n",
              "      <td>?</td>\n",
              "      <td>alfa-romero</td>\n",
              "      <td>gas</td>\n",
              "      <td>std</td>\n",
              "      <td>two</td>\n",
              "      <td>convertible</td>\n",
              "      <td>rwd</td>\n",
              "      <td>front</td>\n",
              "      <td>88.6</td>\n",
              "      <td>168.8</td>\n",
              "      <td>64.1</td>\n",
              "      <td>48.8</td>\n",
              "      <td>2548</td>\n",
              "      <td>dohc</td>\n",
              "      <td>four</td>\n",
              "      <td>130</td>\n",
              "      <td>mpfi</td>\n",
              "      <td>3.47</td>\n",
              "      <td>2.68</td>\n",
              "      <td>9.0</td>\n",
              "      <td>111</td>\n",
              "      <td>5000</td>\n",
              "      <td>21</td>\n",
              "      <td>27</td>\n",
              "      <td>13495</td>\n",
              "    </tr>\n",
              "    <tr>\n",
              "      <th>1</th>\n",
              "      <td>3</td>\n",
              "      <td>?</td>\n",
              "      <td>alfa-romero</td>\n",
              "      <td>gas</td>\n",
              "      <td>std</td>\n",
              "      <td>two</td>\n",
              "      <td>convertible</td>\n",
              "      <td>rwd</td>\n",
              "      <td>front</td>\n",
              "      <td>88.6</td>\n",
              "      <td>168.8</td>\n",
              "      <td>64.1</td>\n",
              "      <td>48.8</td>\n",
              "      <td>2548</td>\n",
              "      <td>dohc</td>\n",
              "      <td>four</td>\n",
              "      <td>130</td>\n",
              "      <td>mpfi</td>\n",
              "      <td>3.47</td>\n",
              "      <td>2.68</td>\n",
              "      <td>9.0</td>\n",
              "      <td>111</td>\n",
              "      <td>5000</td>\n",
              "      <td>21</td>\n",
              "      <td>27</td>\n",
              "      <td>16500</td>\n",
              "    </tr>\n",
              "    <tr>\n",
              "      <th>2</th>\n",
              "      <td>1</td>\n",
              "      <td>?</td>\n",
              "      <td>alfa-romero</td>\n",
              "      <td>gas</td>\n",
              "      <td>std</td>\n",
              "      <td>two</td>\n",
              "      <td>hatchback</td>\n",
              "      <td>rwd</td>\n",
              "      <td>front</td>\n",
              "      <td>94.5</td>\n",
              "      <td>171.2</td>\n",
              "      <td>65.5</td>\n",
              "      <td>52.4</td>\n",
              "      <td>2823</td>\n",
              "      <td>ohcv</td>\n",
              "      <td>six</td>\n",
              "      <td>152</td>\n",
              "      <td>mpfi</td>\n",
              "      <td>2.68</td>\n",
              "      <td>3.47</td>\n",
              "      <td>9.0</td>\n",
              "      <td>154</td>\n",
              "      <td>5000</td>\n",
              "      <td>19</td>\n",
              "      <td>26</td>\n",
              "      <td>16500</td>\n",
              "    </tr>\n",
              "    <tr>\n",
              "      <th>3</th>\n",
              "      <td>2</td>\n",
              "      <td>164</td>\n",
              "      <td>audi</td>\n",
              "      <td>gas</td>\n",
              "      <td>std</td>\n",
              "      <td>four</td>\n",
              "      <td>sedan</td>\n",
              "      <td>fwd</td>\n",
              "      <td>front</td>\n",
              "      <td>99.8</td>\n",
              "      <td>176.6</td>\n",
              "      <td>66.2</td>\n",
              "      <td>54.3</td>\n",
              "      <td>2337</td>\n",
              "      <td>ohc</td>\n",
              "      <td>four</td>\n",
              "      <td>109</td>\n",
              "      <td>mpfi</td>\n",
              "      <td>3.19</td>\n",
              "      <td>3.4</td>\n",
              "      <td>10.0</td>\n",
              "      <td>102</td>\n",
              "      <td>5500</td>\n",
              "      <td>24</td>\n",
              "      <td>30</td>\n",
              "      <td>13950</td>\n",
              "    </tr>\n",
              "    <tr>\n",
              "      <th>4</th>\n",
              "      <td>2</td>\n",
              "      <td>164</td>\n",
              "      <td>audi</td>\n",
              "      <td>gas</td>\n",
              "      <td>std</td>\n",
              "      <td>four</td>\n",
              "      <td>sedan</td>\n",
              "      <td>4wd</td>\n",
              "      <td>front</td>\n",
              "      <td>99.4</td>\n",
              "      <td>176.6</td>\n",
              "      <td>66.4</td>\n",
              "      <td>54.3</td>\n",
              "      <td>2824</td>\n",
              "      <td>ohc</td>\n",
              "      <td>five</td>\n",
              "      <td>136</td>\n",
              "      <td>mpfi</td>\n",
              "      <td>3.19</td>\n",
              "      <td>3.4</td>\n",
              "      <td>8.0</td>\n",
              "      <td>115</td>\n",
              "      <td>5500</td>\n",
              "      <td>18</td>\n",
              "      <td>22</td>\n",
              "      <td>17450</td>\n",
              "    </tr>\n",
              "  </tbody>\n",
              "</table>\n",
              "</div>"
            ],
            "text/plain": [
              "   symboling normalized-losses         make  ... city-mpg highway-mpg  price\n",
              "0          3                 ?  alfa-romero  ...       21          27  13495\n",
              "1          3                 ?  alfa-romero  ...       21          27  16500\n",
              "2          1                 ?  alfa-romero  ...       19          26  16500\n",
              "3          2               164         audi  ...       24          30  13950\n",
              "4          2               164         audi  ...       18          22  17450\n",
              "\n",
              "[5 rows x 26 columns]"
            ]
          },
          "metadata": {
            "tags": []
          },
          "execution_count": 4
        }
      ]
    },
    {
      "cell_type": "markdown",
      "metadata": {
        "id": "QnwYr7ZnXQLQ"
      },
      "source": [
        "**Replacing '?' with NaN**"
      ]
    },
    {
      "cell_type": "code",
      "metadata": {
        "colab": {
          "base_uri": "https://localhost:8080/",
          "height": 312
        },
        "id": "4e6bC1w0XuWg",
        "outputId": "34ce0cd4-5b5c-4f72-8799-9fdc3351bbbb"
      },
      "source": [
        "# replace \"?\" to NaN\r\n",
        "df.replace(\"?\", np.nan, inplace = True)\r\n",
        "df.head(5)"
      ],
      "execution_count": 5,
      "outputs": [
        {
          "output_type": "execute_result",
          "data": {
            "text/html": [
              "<div>\n",
              "<style scoped>\n",
              "    .dataframe tbody tr th:only-of-type {\n",
              "        vertical-align: middle;\n",
              "    }\n",
              "\n",
              "    .dataframe tbody tr th {\n",
              "        vertical-align: top;\n",
              "    }\n",
              "\n",
              "    .dataframe thead th {\n",
              "        text-align: right;\n",
              "    }\n",
              "</style>\n",
              "<table border=\"1\" class=\"dataframe\">\n",
              "  <thead>\n",
              "    <tr style=\"text-align: right;\">\n",
              "      <th></th>\n",
              "      <th>symboling</th>\n",
              "      <th>normalized-losses</th>\n",
              "      <th>make</th>\n",
              "      <th>fuel-type</th>\n",
              "      <th>aspiration</th>\n",
              "      <th>num-of-doors</th>\n",
              "      <th>body-style</th>\n",
              "      <th>drive-wheels</th>\n",
              "      <th>engine-location</th>\n",
              "      <th>wheel-base</th>\n",
              "      <th>length</th>\n",
              "      <th>width</th>\n",
              "      <th>height</th>\n",
              "      <th>curb-weight</th>\n",
              "      <th>engine-type</th>\n",
              "      <th>num-of-cylinders</th>\n",
              "      <th>engine-size</th>\n",
              "      <th>fuel-system</th>\n",
              "      <th>bore</th>\n",
              "      <th>stroke</th>\n",
              "      <th>compression-ratio</th>\n",
              "      <th>horsepower</th>\n",
              "      <th>peak-rpm</th>\n",
              "      <th>city-mpg</th>\n",
              "      <th>highway-mpg</th>\n",
              "      <th>price</th>\n",
              "    </tr>\n",
              "  </thead>\n",
              "  <tbody>\n",
              "    <tr>\n",
              "      <th>0</th>\n",
              "      <td>3</td>\n",
              "      <td>NaN</td>\n",
              "      <td>alfa-romero</td>\n",
              "      <td>gas</td>\n",
              "      <td>std</td>\n",
              "      <td>two</td>\n",
              "      <td>convertible</td>\n",
              "      <td>rwd</td>\n",
              "      <td>front</td>\n",
              "      <td>88.6</td>\n",
              "      <td>168.8</td>\n",
              "      <td>64.1</td>\n",
              "      <td>48.8</td>\n",
              "      <td>2548</td>\n",
              "      <td>dohc</td>\n",
              "      <td>four</td>\n",
              "      <td>130</td>\n",
              "      <td>mpfi</td>\n",
              "      <td>3.47</td>\n",
              "      <td>2.68</td>\n",
              "      <td>9.0</td>\n",
              "      <td>111</td>\n",
              "      <td>5000</td>\n",
              "      <td>21</td>\n",
              "      <td>27</td>\n",
              "      <td>13495</td>\n",
              "    </tr>\n",
              "    <tr>\n",
              "      <th>1</th>\n",
              "      <td>3</td>\n",
              "      <td>NaN</td>\n",
              "      <td>alfa-romero</td>\n",
              "      <td>gas</td>\n",
              "      <td>std</td>\n",
              "      <td>two</td>\n",
              "      <td>convertible</td>\n",
              "      <td>rwd</td>\n",
              "      <td>front</td>\n",
              "      <td>88.6</td>\n",
              "      <td>168.8</td>\n",
              "      <td>64.1</td>\n",
              "      <td>48.8</td>\n",
              "      <td>2548</td>\n",
              "      <td>dohc</td>\n",
              "      <td>four</td>\n",
              "      <td>130</td>\n",
              "      <td>mpfi</td>\n",
              "      <td>3.47</td>\n",
              "      <td>2.68</td>\n",
              "      <td>9.0</td>\n",
              "      <td>111</td>\n",
              "      <td>5000</td>\n",
              "      <td>21</td>\n",
              "      <td>27</td>\n",
              "      <td>16500</td>\n",
              "    </tr>\n",
              "    <tr>\n",
              "      <th>2</th>\n",
              "      <td>1</td>\n",
              "      <td>NaN</td>\n",
              "      <td>alfa-romero</td>\n",
              "      <td>gas</td>\n",
              "      <td>std</td>\n",
              "      <td>two</td>\n",
              "      <td>hatchback</td>\n",
              "      <td>rwd</td>\n",
              "      <td>front</td>\n",
              "      <td>94.5</td>\n",
              "      <td>171.2</td>\n",
              "      <td>65.5</td>\n",
              "      <td>52.4</td>\n",
              "      <td>2823</td>\n",
              "      <td>ohcv</td>\n",
              "      <td>six</td>\n",
              "      <td>152</td>\n",
              "      <td>mpfi</td>\n",
              "      <td>2.68</td>\n",
              "      <td>3.47</td>\n",
              "      <td>9.0</td>\n",
              "      <td>154</td>\n",
              "      <td>5000</td>\n",
              "      <td>19</td>\n",
              "      <td>26</td>\n",
              "      <td>16500</td>\n",
              "    </tr>\n",
              "    <tr>\n",
              "      <th>3</th>\n",
              "      <td>2</td>\n",
              "      <td>164</td>\n",
              "      <td>audi</td>\n",
              "      <td>gas</td>\n",
              "      <td>std</td>\n",
              "      <td>four</td>\n",
              "      <td>sedan</td>\n",
              "      <td>fwd</td>\n",
              "      <td>front</td>\n",
              "      <td>99.8</td>\n",
              "      <td>176.6</td>\n",
              "      <td>66.2</td>\n",
              "      <td>54.3</td>\n",
              "      <td>2337</td>\n",
              "      <td>ohc</td>\n",
              "      <td>four</td>\n",
              "      <td>109</td>\n",
              "      <td>mpfi</td>\n",
              "      <td>3.19</td>\n",
              "      <td>3.4</td>\n",
              "      <td>10.0</td>\n",
              "      <td>102</td>\n",
              "      <td>5500</td>\n",
              "      <td>24</td>\n",
              "      <td>30</td>\n",
              "      <td>13950</td>\n",
              "    </tr>\n",
              "    <tr>\n",
              "      <th>4</th>\n",
              "      <td>2</td>\n",
              "      <td>164</td>\n",
              "      <td>audi</td>\n",
              "      <td>gas</td>\n",
              "      <td>std</td>\n",
              "      <td>four</td>\n",
              "      <td>sedan</td>\n",
              "      <td>4wd</td>\n",
              "      <td>front</td>\n",
              "      <td>99.4</td>\n",
              "      <td>176.6</td>\n",
              "      <td>66.4</td>\n",
              "      <td>54.3</td>\n",
              "      <td>2824</td>\n",
              "      <td>ohc</td>\n",
              "      <td>five</td>\n",
              "      <td>136</td>\n",
              "      <td>mpfi</td>\n",
              "      <td>3.19</td>\n",
              "      <td>3.4</td>\n",
              "      <td>8.0</td>\n",
              "      <td>115</td>\n",
              "      <td>5500</td>\n",
              "      <td>18</td>\n",
              "      <td>22</td>\n",
              "      <td>17450</td>\n",
              "    </tr>\n",
              "  </tbody>\n",
              "</table>\n",
              "</div>"
            ],
            "text/plain": [
              "   symboling normalized-losses         make  ... city-mpg highway-mpg  price\n",
              "0          3               NaN  alfa-romero  ...       21          27  13495\n",
              "1          3               NaN  alfa-romero  ...       21          27  16500\n",
              "2          1               NaN  alfa-romero  ...       19          26  16500\n",
              "3          2               164         audi  ...       24          30  13950\n",
              "4          2               164         audi  ...       18          22  17450\n",
              "\n",
              "[5 rows x 26 columns]"
            ]
          },
          "metadata": {
            "tags": []
          },
          "execution_count": 5
        }
      ]
    },
    {
      "cell_type": "markdown",
      "metadata": {
        "id": "6PCg6ADcX7wh"
      },
      "source": [
        "**Detecting Missing values**"
      ]
    },
    {
      "cell_type": "code",
      "metadata": {
        "colab": {
          "base_uri": "https://localhost:8080/",
          "height": 260
        },
        "id": "I0VqC19xYTIE",
        "outputId": "112137e6-66db-403a-e46b-222d22e2c9cc"
      },
      "source": [
        "missing_data = df.isnull()\r\n",
        "missing_data.head(5)"
      ],
      "execution_count": 6,
      "outputs": [
        {
          "output_type": "execute_result",
          "data": {
            "text/html": [
              "<div>\n",
              "<style scoped>\n",
              "    .dataframe tbody tr th:only-of-type {\n",
              "        vertical-align: middle;\n",
              "    }\n",
              "\n",
              "    .dataframe tbody tr th {\n",
              "        vertical-align: top;\n",
              "    }\n",
              "\n",
              "    .dataframe thead th {\n",
              "        text-align: right;\n",
              "    }\n",
              "</style>\n",
              "<table border=\"1\" class=\"dataframe\">\n",
              "  <thead>\n",
              "    <tr style=\"text-align: right;\">\n",
              "      <th></th>\n",
              "      <th>symboling</th>\n",
              "      <th>normalized-losses</th>\n",
              "      <th>make</th>\n",
              "      <th>fuel-type</th>\n",
              "      <th>aspiration</th>\n",
              "      <th>num-of-doors</th>\n",
              "      <th>body-style</th>\n",
              "      <th>drive-wheels</th>\n",
              "      <th>engine-location</th>\n",
              "      <th>wheel-base</th>\n",
              "      <th>length</th>\n",
              "      <th>width</th>\n",
              "      <th>height</th>\n",
              "      <th>curb-weight</th>\n",
              "      <th>engine-type</th>\n",
              "      <th>num-of-cylinders</th>\n",
              "      <th>engine-size</th>\n",
              "      <th>fuel-system</th>\n",
              "      <th>bore</th>\n",
              "      <th>stroke</th>\n",
              "      <th>compression-ratio</th>\n",
              "      <th>horsepower</th>\n",
              "      <th>peak-rpm</th>\n",
              "      <th>city-mpg</th>\n",
              "      <th>highway-mpg</th>\n",
              "      <th>price</th>\n",
              "    </tr>\n",
              "  </thead>\n",
              "  <tbody>\n",
              "    <tr>\n",
              "      <th>0</th>\n",
              "      <td>False</td>\n",
              "      <td>True</td>\n",
              "      <td>False</td>\n",
              "      <td>False</td>\n",
              "      <td>False</td>\n",
              "      <td>False</td>\n",
              "      <td>False</td>\n",
              "      <td>False</td>\n",
              "      <td>False</td>\n",
              "      <td>False</td>\n",
              "      <td>False</td>\n",
              "      <td>False</td>\n",
              "      <td>False</td>\n",
              "      <td>False</td>\n",
              "      <td>False</td>\n",
              "      <td>False</td>\n",
              "      <td>False</td>\n",
              "      <td>False</td>\n",
              "      <td>False</td>\n",
              "      <td>False</td>\n",
              "      <td>False</td>\n",
              "      <td>False</td>\n",
              "      <td>False</td>\n",
              "      <td>False</td>\n",
              "      <td>False</td>\n",
              "      <td>False</td>\n",
              "    </tr>\n",
              "    <tr>\n",
              "      <th>1</th>\n",
              "      <td>False</td>\n",
              "      <td>True</td>\n",
              "      <td>False</td>\n",
              "      <td>False</td>\n",
              "      <td>False</td>\n",
              "      <td>False</td>\n",
              "      <td>False</td>\n",
              "      <td>False</td>\n",
              "      <td>False</td>\n",
              "      <td>False</td>\n",
              "      <td>False</td>\n",
              "      <td>False</td>\n",
              "      <td>False</td>\n",
              "      <td>False</td>\n",
              "      <td>False</td>\n",
              "      <td>False</td>\n",
              "      <td>False</td>\n",
              "      <td>False</td>\n",
              "      <td>False</td>\n",
              "      <td>False</td>\n",
              "      <td>False</td>\n",
              "      <td>False</td>\n",
              "      <td>False</td>\n",
              "      <td>False</td>\n",
              "      <td>False</td>\n",
              "      <td>False</td>\n",
              "    </tr>\n",
              "    <tr>\n",
              "      <th>2</th>\n",
              "      <td>False</td>\n",
              "      <td>True</td>\n",
              "      <td>False</td>\n",
              "      <td>False</td>\n",
              "      <td>False</td>\n",
              "      <td>False</td>\n",
              "      <td>False</td>\n",
              "      <td>False</td>\n",
              "      <td>False</td>\n",
              "      <td>False</td>\n",
              "      <td>False</td>\n",
              "      <td>False</td>\n",
              "      <td>False</td>\n",
              "      <td>False</td>\n",
              "      <td>False</td>\n",
              "      <td>False</td>\n",
              "      <td>False</td>\n",
              "      <td>False</td>\n",
              "      <td>False</td>\n",
              "      <td>False</td>\n",
              "      <td>False</td>\n",
              "      <td>False</td>\n",
              "      <td>False</td>\n",
              "      <td>False</td>\n",
              "      <td>False</td>\n",
              "      <td>False</td>\n",
              "    </tr>\n",
              "    <tr>\n",
              "      <th>3</th>\n",
              "      <td>False</td>\n",
              "      <td>False</td>\n",
              "      <td>False</td>\n",
              "      <td>False</td>\n",
              "      <td>False</td>\n",
              "      <td>False</td>\n",
              "      <td>False</td>\n",
              "      <td>False</td>\n",
              "      <td>False</td>\n",
              "      <td>False</td>\n",
              "      <td>False</td>\n",
              "      <td>False</td>\n",
              "      <td>False</td>\n",
              "      <td>False</td>\n",
              "      <td>False</td>\n",
              "      <td>False</td>\n",
              "      <td>False</td>\n",
              "      <td>False</td>\n",
              "      <td>False</td>\n",
              "      <td>False</td>\n",
              "      <td>False</td>\n",
              "      <td>False</td>\n",
              "      <td>False</td>\n",
              "      <td>False</td>\n",
              "      <td>False</td>\n",
              "      <td>False</td>\n",
              "    </tr>\n",
              "    <tr>\n",
              "      <th>4</th>\n",
              "      <td>False</td>\n",
              "      <td>False</td>\n",
              "      <td>False</td>\n",
              "      <td>False</td>\n",
              "      <td>False</td>\n",
              "      <td>False</td>\n",
              "      <td>False</td>\n",
              "      <td>False</td>\n",
              "      <td>False</td>\n",
              "      <td>False</td>\n",
              "      <td>False</td>\n",
              "      <td>False</td>\n",
              "      <td>False</td>\n",
              "      <td>False</td>\n",
              "      <td>False</td>\n",
              "      <td>False</td>\n",
              "      <td>False</td>\n",
              "      <td>False</td>\n",
              "      <td>False</td>\n",
              "      <td>False</td>\n",
              "      <td>False</td>\n",
              "      <td>False</td>\n",
              "      <td>False</td>\n",
              "      <td>False</td>\n",
              "      <td>False</td>\n",
              "      <td>False</td>\n",
              "    </tr>\n",
              "  </tbody>\n",
              "</table>\n",
              "</div>"
            ],
            "text/plain": [
              "   symboling  normalized-losses   make  ...  city-mpg  highway-mpg  price\n",
              "0      False               True  False  ...     False        False  False\n",
              "1      False               True  False  ...     False        False  False\n",
              "2      False               True  False  ...     False        False  False\n",
              "3      False              False  False  ...     False        False  False\n",
              "4      False              False  False  ...     False        False  False\n",
              "\n",
              "[5 rows x 26 columns]"
            ]
          },
          "metadata": {
            "tags": []
          },
          "execution_count": 6
        }
      ]
    },
    {
      "cell_type": "markdown",
      "metadata": {
        "id": "K2M6yP7WX37u"
      },
      "source": [
        "**Count missing values in each column**"
      ]
    },
    {
      "cell_type": "code",
      "metadata": {
        "colab": {
          "base_uri": "https://localhost:8080/"
        },
        "id": "MM7qP2b9Ya0x",
        "outputId": "b07311d4-7185-46ec-cd71-a72f8d5fcae3"
      },
      "source": [
        "for column in missing_data.columns.values.tolist():\r\n",
        "    print(column)\r\n",
        "    print (missing_data[column].value_counts())\r\n",
        "    print(\"\")    "
      ],
      "execution_count": 7,
      "outputs": [
        {
          "output_type": "stream",
          "text": [
            "symboling\n",
            "False    205\n",
            "Name: symboling, dtype: int64\n",
            "\n",
            "normalized-losses\n",
            "False    164\n",
            "True      41\n",
            "Name: normalized-losses, dtype: int64\n",
            "\n",
            "make\n",
            "False    205\n",
            "Name: make, dtype: int64\n",
            "\n",
            "fuel-type\n",
            "False    205\n",
            "Name: fuel-type, dtype: int64\n",
            "\n",
            "aspiration\n",
            "False    205\n",
            "Name: aspiration, dtype: int64\n",
            "\n",
            "num-of-doors\n",
            "False    203\n",
            "True       2\n",
            "Name: num-of-doors, dtype: int64\n",
            "\n",
            "body-style\n",
            "False    205\n",
            "Name: body-style, dtype: int64\n",
            "\n",
            "drive-wheels\n",
            "False    205\n",
            "Name: drive-wheels, dtype: int64\n",
            "\n",
            "engine-location\n",
            "False    205\n",
            "Name: engine-location, dtype: int64\n",
            "\n",
            "wheel-base\n",
            "False    205\n",
            "Name: wheel-base, dtype: int64\n",
            "\n",
            "length\n",
            "False    205\n",
            "Name: length, dtype: int64\n",
            "\n",
            "width\n",
            "False    205\n",
            "Name: width, dtype: int64\n",
            "\n",
            "height\n",
            "False    205\n",
            "Name: height, dtype: int64\n",
            "\n",
            "curb-weight\n",
            "False    205\n",
            "Name: curb-weight, dtype: int64\n",
            "\n",
            "engine-type\n",
            "False    205\n",
            "Name: engine-type, dtype: int64\n",
            "\n",
            "num-of-cylinders\n",
            "False    205\n",
            "Name: num-of-cylinders, dtype: int64\n",
            "\n",
            "engine-size\n",
            "False    205\n",
            "Name: engine-size, dtype: int64\n",
            "\n",
            "fuel-system\n",
            "False    205\n",
            "Name: fuel-system, dtype: int64\n",
            "\n",
            "bore\n",
            "False    201\n",
            "True       4\n",
            "Name: bore, dtype: int64\n",
            "\n",
            "stroke\n",
            "False    201\n",
            "True       4\n",
            "Name: stroke, dtype: int64\n",
            "\n",
            "compression-ratio\n",
            "False    205\n",
            "Name: compression-ratio, dtype: int64\n",
            "\n",
            "horsepower\n",
            "False    203\n",
            "True       2\n",
            "Name: horsepower, dtype: int64\n",
            "\n",
            "peak-rpm\n",
            "False    203\n",
            "True       2\n",
            "Name: peak-rpm, dtype: int64\n",
            "\n",
            "city-mpg\n",
            "False    205\n",
            "Name: city-mpg, dtype: int64\n",
            "\n",
            "highway-mpg\n",
            "False    205\n",
            "Name: highway-mpg, dtype: int64\n",
            "\n",
            "price\n",
            "False    201\n",
            "True       4\n",
            "Name: price, dtype: int64\n",
            "\n"
          ],
          "name": "stdout"
        }
      ]
    },
    {
      "cell_type": "markdown",
      "metadata": {
        "id": "OMd8Z347YkZG"
      },
      "source": [
        "**Replace by mean:**\r\n",
        "\r\n",
        "\"normalized-losses\": 41 missing data, replace them with mean\r\n",
        "\r\n",
        "\"stroke\": 4 missing data, replace them with mean\r\n",
        "\r\n",
        "\"bore\": 4 missing data, replace them with mean\r\n",
        "\r\n",
        "\"horsepower\": 2 missing data, replace them with mean\r\n",
        "\r\n",
        "\"peak-rpm\": 2 missing data, replace them with mean\r\n",
        "\r\n",
        "\r\n",
        "**Replace by frequency:**\r\n",
        "\r\n",
        "\"num-of-doors\": 2 missing data, replace them with \"four\".\r\n",
        "    Reason: 84% sedans is four doors. Since four doors is most frequent, it is most likely to occur\r\n",
        "\r\n",
        "\r\n",
        "**Drop the whole row:**\r\n",
        "\r\n",
        "\"price\": 4 missing data, simply delete the whole row\r\n",
        "    Reason: price is what we want to predict. Any data entry without price data cannot be used for prediction; therefore any row now without price data is not useful to us"
      ]
    },
    {
      "cell_type": "markdown",
      "metadata": {
        "id": "qV5sbNE7Xsfd"
      },
      "source": [
        "## **Descriptive Statistics**"
      ]
    },
    {
      "cell_type": "markdown",
      "metadata": {
        "id": "4vzoNJuGXsfe"
      },
      "source": [
        "### **Mean, Median, Standard Deviation and Coefficient of Variance**"
      ]
    },
    {
      "cell_type": "markdown",
      "metadata": {
        "id": "mJajqz_VXsff"
      },
      "source": [
        "The sample mean is the average and is computed as the sum of all the observed outcomes  from the sample divided by the total number of events.  We use x as the symbol for the sample mean.  In math terms, \n",
        "\n",
        "![](https://drive.google.com/uc?export=view&id=1evavjNWnoUopHCwzW4NPcm8vRHoEB69l)\n",
        "        \n",
        "where n is the sample size and the x correspond to the observed valued."
      ]
    },
    {
      "cell_type": "markdown",
      "metadata": {
        "id": "SwBYPtvNXsff"
      },
      "source": [
        "**Example 1**:\n",
        "\n",
        "Suppose you randomly collected prices of pizza\n",
        "\n",
        "        34, 43, 81, 106, 106 and 115 \n",
        "\n",
        "We compute the sample mean by adding and dividing by the number of samples, 6.\n",
        "\n",
        "             (34 + 43 + 81 + 106 + 106 + 115)/6 =  80.83   \n",
        "                                                                     \n",
        "\n",
        "We can say that the sample mean of the price of pizza is 80.83.\n",
        "\n",
        "The mode of a set of data is the number with the highest frequency.  In the above example 106 is the mode, since it occurs twice and the rest of the outcomes occur only once.\n",
        "\n",
        "The median is the middle score.  If we have an even number of events we take the average of the two middles.\n",
        "In the example above, the median is\n",
        "                   \n",
        "        (81 + 106)/2 = 93.5\n",
        "\n",
        "There is an alternative value that also is resistant to outliers(a data value that is very different from most of the data). This is called the trimmed mean which is the mean after getting rid of the outliers or 5% on the top and 5% on the bottom.  We can also use the trimmed mean if we are concerned with outliers skewing the data, however the median is used more often since more people understand it.\n",
        "\n",
        "**Example 2**:\n",
        "\n",
        "At a ski rental shop data was collected on the number of rentals on each of ten consecutive Saturdays: \n",
        "\n",
        "        44, 50, 38, 96, 42, 47, 40, 39, 46, 50.\n",
        "\n",
        "To find the sample mean, add them and divide by 10:\n",
        "\n",
        "        ( 44 + 50 + 38 + 96 + 42 + 47 + 40 + 39 + 46 + 50 )/10 = 49.2\n",
        "                                                                                       \n",
        "          \n",
        "Notice that the mean value is not a value of the sample.\n",
        "\n",
        "To find the median, first sort the data:\n",
        "\n",
        "        38, 39, 40, 42, 44, 46, 47, 50, 50, 96\n",
        "\n",
        "Notice that there are two middle numbers 44 and 46.  To find the median we take the average of the two.\n",
        "\n",
        "                           Median  =  (44 + 46)/2 =  45\n",
        "                            \n",
        "                                              \n",
        "The mean, mode, median do a nice job in telling where the center of the data set is, but often we are interested in more.  \n",
        "\n",
        "For example, a pharmaceutical engineer develops a new drug that regulates iron in the blood.  Suppose she finds out that the average sugar content after taking the medication is the optimal level.  This does not mean that the drug is effective.  There is a possibility that half of the patients have dangerously low sugar content while the other half have dangerously high content.  Instead of the drug being an effective regulator, it is a deadly poison.  What the pharmacist needs is a measure of how far the data is spread apart.  This is what the variance and standard deviation do.  First we show the formulas for these measurements.  Then we will go through the steps on how to use the formulas."
      ]
    },
    {
      "cell_type": "markdown",
      "metadata": {
        "id": "Id2-NSASXsfg"
      },
      "source": [
        "###**Variance,  Standard Deviation and Coefficient of Variation** "
      ]
    },
    {
      "cell_type": "markdown",
      "metadata": {
        "id": "PyyknuFbXsfh"
      },
      "source": [
        "The variance is defined as\n",
        "\n",
        "![](https://drive.google.com/uc?export=view&id=1ORw5eazjxpHHI-_ehHzPAlCWf7cgd360)\n",
        "\n",
        "\n",
        "The standard deviation is \n",
        "\n",
        "![](https://drive.google.com/uc?export=view&id=1-v_1KiA8wNI-QdqbpsupmHOnFY2pcV-Z)\n",
        "\n",
        "\n",
        "**Variance and Standard Deviation: Step by Step**\n",
        "\n",
        "       Calculate the mean, x.\n",
        "       Write a table that subtracts the mean from each observed value.\n",
        "       Square each of the differences.\n",
        "       Add this column.\n",
        "       Divide by n -1 where n is the number of items in the sample  This is the variance.\n",
        "\n",
        "To get the standard deviation we take the square root of the variance.  \n",
        "\n",
        " \n",
        "**Example**\n",
        "\n",
        "The owner of a restaurant is interested in how much people spend at the restaurant.  He examines 10 randomly selected receipts for parties of four and writes down the following data.\n",
        "\n",
        "        44,   50,   38,   96,   42,   47,   40,   39,   46,   50\n",
        "\n",
        "He calculated the mean by adding and dividing by 10 to get\n",
        "\n",
        "        x  =  49.2\n",
        "\n",
        "Below is the table for getting the standard deviation:\n",
        "\n",
        "\n",
        "![](https://drive.google.com/uc?export=view&id=15DgaeMHsRbYT_rB_z7c8M6ln--oMi9fn)\n",
        "\n",
        "[source](http://www.ltcconline.net/greenl/courses/201/descstat/mean.htm)\n",
        "\n",
        "\n",
        "Now \n",
        "\n",
        "        2600.4/(10-1)\n",
        "                        =  288.7\n",
        "\n",
        "Hence the variance is 289 and the standard deviation is the square root of  289 = 17.\n",
        "\n",
        "Since the standard deviation can be thought of measuring how far the data values lie from the mean, we take the mean and move one standard deviation in either direction.  The mean for this example was about 49.2 and the standard deviation was 17.  We have:\n",
        " \n",
        "49.2 - 17 = 32.2\n",
        "\n",
        " \n",
        "and\n",
        " \n",
        "49.2 + 17 = 66.2\n",
        " \n",
        "What this means is that most of the patrons probably spend between   $32.20  and  $66.20\n",
        "\n",
        "The sample standard deviation will be denoted by s and the population standard deviation will be denoted by the Greek letter \n",
        "![](https://drive.google.com/uc?export=view&id=1d4UNuQuEes7RUc4i5hjW3FC2kVcHpU0S)\n",
        "\n",
        "The sample variance will be denoted by ![](https://drive.google.com/uc?export=view&id=1nY0v-uaT-1vRh6rc5OEH1jjbdiv6q50M)\n",
        " and the population variance will be denoted by \n",
        "![](https://drive.google.com/uc?export=view&id=1wmizR7jLHAzY-67oZfxbAkfI3vxYzkIu)\n",
        "\n",
        "The variance and standard deviation describe how spread out the data is.  If the data all lies close to the mean, then the standard deviation will be small, while if the data is spread out over a large range of values, \n",
        "![](https://drive.google.com/uc?export=view&id=1nY0v-uaT-1vRh6rc5OEH1jjbdiv6q50M) will be large.  Having outliers will increase the standard deviation.\n",
        "\n",
        "One of the flaws involved with the standard deviation, is that it depends on the units that are used.  One way of handling this difficulty, is called the coefficient of variation which is the standard deviation divided by the mean times 100%\n",
        "![](https://drive.google.com/uc?export=view&id=1zFjog2XZSnGmtPjvgFZ4l1zZUWXmKBn1)\n",
        "\n",
        "In the above example, it is \n",
        "\n",
        "         (17/49.2)100%   =  34.6%\n",
        "\n",
        "\n",
        "This tells us that the standard deviation of the restaurant bills is 34.6% of the mean.\n",
        "\n"
      ]
    },
    {
      "cell_type": "markdown",
      "metadata": {
        "id": "LJ9CeuCyanhc"
      },
      "source": [
        "**Computing mean of \"normalized losses\"**"
      ]
    },
    {
      "cell_type": "code",
      "metadata": {
        "colab": {
          "base_uri": "https://localhost:8080/"
        },
        "id": "Hqls2GeDajAB",
        "outputId": "253cc7ab-c48b-4f70-f056-2e360a332fc7"
      },
      "source": [
        "avg_norm_loss = df[\"normalized-losses\"].astype(\"float\").mean(axis=0)\r\n",
        "print(\"Average of normalized-losses:\", avg_norm_loss)"
      ],
      "execution_count": 8,
      "outputs": [
        {
          "output_type": "stream",
          "text": [
            "Average of normalized-losses: 122.0\n"
          ],
          "name": "stdout"
        }
      ]
    },
    {
      "cell_type": "markdown",
      "metadata": {
        "id": "ZTpXPujJa7J1"
      },
      "source": [
        "**Replacing missing data in \"normalized losses\" with mean**"
      ]
    },
    {
      "cell_type": "code",
      "metadata": {
        "id": "fgU_uUNka3zx"
      },
      "source": [
        "df[\"normalized-losses\"].replace(np.nan, avg_norm_loss, inplace=True)"
      ],
      "execution_count": 9,
      "outputs": []
    },
    {
      "cell_type": "markdown",
      "metadata": {
        "id": "kf4iz_V1bWvg"
      },
      "source": [
        "**Computing mean of \"bore\"**"
      ]
    },
    {
      "cell_type": "code",
      "metadata": {
        "colab": {
          "base_uri": "https://localhost:8080/"
        },
        "id": "1M7ce0ihblP_",
        "outputId": "0f7a5002-12f2-4d40-c6d2-746d8a1f7c96"
      },
      "source": [
        "avg_bore=df['bore'].astype('float').mean(axis=0)\r\n",
        "print(\"Average of bore:\", avg_bore)"
      ],
      "execution_count": 10,
      "outputs": [
        {
          "output_type": "stream",
          "text": [
            "Average of bore: 3.3297512437810957\n"
          ],
          "name": "stdout"
        }
      ]
    },
    {
      "cell_type": "markdown",
      "metadata": {
        "id": "3XRlHJrrbra2"
      },
      "source": [
        "**Replacing missing data in \"bore\" with mean**\r\n",
        "\r\n",
        "\r\n"
      ]
    },
    {
      "cell_type": "code",
      "metadata": {
        "id": "kyyLSQ5AbyK-"
      },
      "source": [
        "df[\"bore\"].replace(np.nan, avg_bore, inplace=True)"
      ],
      "execution_count": 11,
      "outputs": []
    },
    {
      "cell_type": "markdown",
      "metadata": {
        "id": "y747loc5b63V"
      },
      "source": [
        "**Question**\r\n",
        "\r\n",
        "Replace NaN in \"stroke\",\"horsepower\", and \"peak-rpm\" columns by mean."
      ]
    },
    {
      "cell_type": "markdown",
      "metadata": {
        "id": "L90EmhJwdi1e"
      },
      "source": [
        "**To see which values are present in the column, 'num-of-doors' we can use the \".value_counts()\" method:**"
      ]
    },
    {
      "cell_type": "code",
      "metadata": {
        "colab": {
          "base_uri": "https://localhost:8080/"
        },
        "id": "Lu1RQN-sdpuV",
        "outputId": "69d46c9d-c5fd-4fb5-ec40-57578e79e6ac"
      },
      "source": [
        "df['num-of-doors'].value_counts()"
      ],
      "execution_count": 12,
      "outputs": [
        {
          "output_type": "execute_result",
          "data": {
            "text/plain": [
              "four    114\n",
              "two      89\n",
              "Name: num-of-doors, dtype: int64"
            ]
          },
          "metadata": {
            "tags": []
          },
          "execution_count": 12
        }
      ]
    },
    {
      "cell_type": "markdown",
      "metadata": {
        "id": "a-5kOgiOdx1E"
      },
      "source": [
        "**Using the \".idxmax()\" method to calculate for us the most common type automatically:**"
      ]
    },
    {
      "cell_type": "code",
      "metadata": {
        "colab": {
          "base_uri": "https://localhost:8080/",
          "height": 35
        },
        "id": "KfN5HRAnduwf",
        "outputId": "56cbbec5-9f70-4514-fb76-37966117a2ee"
      },
      "source": [
        "df['num-of-doors'].value_counts().idxmax()"
      ],
      "execution_count": 13,
      "outputs": [
        {
          "output_type": "execute_result",
          "data": {
            "application/vnd.google.colaboratory.intrinsic+json": {
              "type": "string"
            },
            "text/plain": [
              "'four'"
            ]
          },
          "metadata": {
            "tags": []
          },
          "execution_count": 13
        }
      ]
    },
    {
      "cell_type": "code",
      "metadata": {
        "id": "nEsx0uWpeCzJ"
      },
      "source": [
        "#replace the missing 'num-of-doors' values by the most frequent \r\n",
        "df[\"num-of-doors\"].replace(np.nan, \"four\", inplace=True)"
      ],
      "execution_count": 14,
      "outputs": []
    },
    {
      "cell_type": "code",
      "metadata": {
        "id": "PQgqyvSYeHcv"
      },
      "source": [
        "# simply drop whole row with NaN in \"price\" column\r\n",
        "df.dropna(subset=[\"price\"], axis=0, inplace=True)\r\n",
        "\r\n",
        "# reset index, because we droped two rows\r\n",
        "df.reset_index(drop=True, inplace=True)"
      ],
      "execution_count": 15,
      "outputs": []
    },
    {
      "cell_type": "code",
      "metadata": {
        "colab": {
          "base_uri": "https://localhost:8080/",
          "height": 312
        },
        "id": "VtzM-HFfeOu0",
        "outputId": "23001bfc-d5d3-4ecc-e06c-b2af5b4acaaa"
      },
      "source": [
        "df.head()"
      ],
      "execution_count": 16,
      "outputs": [
        {
          "output_type": "execute_result",
          "data": {
            "text/html": [
              "<div>\n",
              "<style scoped>\n",
              "    .dataframe tbody tr th:only-of-type {\n",
              "        vertical-align: middle;\n",
              "    }\n",
              "\n",
              "    .dataframe tbody tr th {\n",
              "        vertical-align: top;\n",
              "    }\n",
              "\n",
              "    .dataframe thead th {\n",
              "        text-align: right;\n",
              "    }\n",
              "</style>\n",
              "<table border=\"1\" class=\"dataframe\">\n",
              "  <thead>\n",
              "    <tr style=\"text-align: right;\">\n",
              "      <th></th>\n",
              "      <th>symboling</th>\n",
              "      <th>normalized-losses</th>\n",
              "      <th>make</th>\n",
              "      <th>fuel-type</th>\n",
              "      <th>aspiration</th>\n",
              "      <th>num-of-doors</th>\n",
              "      <th>body-style</th>\n",
              "      <th>drive-wheels</th>\n",
              "      <th>engine-location</th>\n",
              "      <th>wheel-base</th>\n",
              "      <th>length</th>\n",
              "      <th>width</th>\n",
              "      <th>height</th>\n",
              "      <th>curb-weight</th>\n",
              "      <th>engine-type</th>\n",
              "      <th>num-of-cylinders</th>\n",
              "      <th>engine-size</th>\n",
              "      <th>fuel-system</th>\n",
              "      <th>bore</th>\n",
              "      <th>stroke</th>\n",
              "      <th>compression-ratio</th>\n",
              "      <th>horsepower</th>\n",
              "      <th>peak-rpm</th>\n",
              "      <th>city-mpg</th>\n",
              "      <th>highway-mpg</th>\n",
              "      <th>price</th>\n",
              "    </tr>\n",
              "  </thead>\n",
              "  <tbody>\n",
              "    <tr>\n",
              "      <th>0</th>\n",
              "      <td>3</td>\n",
              "      <td>122</td>\n",
              "      <td>alfa-romero</td>\n",
              "      <td>gas</td>\n",
              "      <td>std</td>\n",
              "      <td>two</td>\n",
              "      <td>convertible</td>\n",
              "      <td>rwd</td>\n",
              "      <td>front</td>\n",
              "      <td>88.6</td>\n",
              "      <td>168.8</td>\n",
              "      <td>64.1</td>\n",
              "      <td>48.8</td>\n",
              "      <td>2548</td>\n",
              "      <td>dohc</td>\n",
              "      <td>four</td>\n",
              "      <td>130</td>\n",
              "      <td>mpfi</td>\n",
              "      <td>3.47</td>\n",
              "      <td>2.68</td>\n",
              "      <td>9.0</td>\n",
              "      <td>111</td>\n",
              "      <td>5000</td>\n",
              "      <td>21</td>\n",
              "      <td>27</td>\n",
              "      <td>13495</td>\n",
              "    </tr>\n",
              "    <tr>\n",
              "      <th>1</th>\n",
              "      <td>3</td>\n",
              "      <td>122</td>\n",
              "      <td>alfa-romero</td>\n",
              "      <td>gas</td>\n",
              "      <td>std</td>\n",
              "      <td>two</td>\n",
              "      <td>convertible</td>\n",
              "      <td>rwd</td>\n",
              "      <td>front</td>\n",
              "      <td>88.6</td>\n",
              "      <td>168.8</td>\n",
              "      <td>64.1</td>\n",
              "      <td>48.8</td>\n",
              "      <td>2548</td>\n",
              "      <td>dohc</td>\n",
              "      <td>four</td>\n",
              "      <td>130</td>\n",
              "      <td>mpfi</td>\n",
              "      <td>3.47</td>\n",
              "      <td>2.68</td>\n",
              "      <td>9.0</td>\n",
              "      <td>111</td>\n",
              "      <td>5000</td>\n",
              "      <td>21</td>\n",
              "      <td>27</td>\n",
              "      <td>16500</td>\n",
              "    </tr>\n",
              "    <tr>\n",
              "      <th>2</th>\n",
              "      <td>1</td>\n",
              "      <td>122</td>\n",
              "      <td>alfa-romero</td>\n",
              "      <td>gas</td>\n",
              "      <td>std</td>\n",
              "      <td>two</td>\n",
              "      <td>hatchback</td>\n",
              "      <td>rwd</td>\n",
              "      <td>front</td>\n",
              "      <td>94.5</td>\n",
              "      <td>171.2</td>\n",
              "      <td>65.5</td>\n",
              "      <td>52.4</td>\n",
              "      <td>2823</td>\n",
              "      <td>ohcv</td>\n",
              "      <td>six</td>\n",
              "      <td>152</td>\n",
              "      <td>mpfi</td>\n",
              "      <td>2.68</td>\n",
              "      <td>3.47</td>\n",
              "      <td>9.0</td>\n",
              "      <td>154</td>\n",
              "      <td>5000</td>\n",
              "      <td>19</td>\n",
              "      <td>26</td>\n",
              "      <td>16500</td>\n",
              "    </tr>\n",
              "    <tr>\n",
              "      <th>3</th>\n",
              "      <td>2</td>\n",
              "      <td>164</td>\n",
              "      <td>audi</td>\n",
              "      <td>gas</td>\n",
              "      <td>std</td>\n",
              "      <td>four</td>\n",
              "      <td>sedan</td>\n",
              "      <td>fwd</td>\n",
              "      <td>front</td>\n",
              "      <td>99.8</td>\n",
              "      <td>176.6</td>\n",
              "      <td>66.2</td>\n",
              "      <td>54.3</td>\n",
              "      <td>2337</td>\n",
              "      <td>ohc</td>\n",
              "      <td>four</td>\n",
              "      <td>109</td>\n",
              "      <td>mpfi</td>\n",
              "      <td>3.19</td>\n",
              "      <td>3.4</td>\n",
              "      <td>10.0</td>\n",
              "      <td>102</td>\n",
              "      <td>5500</td>\n",
              "      <td>24</td>\n",
              "      <td>30</td>\n",
              "      <td>13950</td>\n",
              "    </tr>\n",
              "    <tr>\n",
              "      <th>4</th>\n",
              "      <td>2</td>\n",
              "      <td>164</td>\n",
              "      <td>audi</td>\n",
              "      <td>gas</td>\n",
              "      <td>std</td>\n",
              "      <td>four</td>\n",
              "      <td>sedan</td>\n",
              "      <td>4wd</td>\n",
              "      <td>front</td>\n",
              "      <td>99.4</td>\n",
              "      <td>176.6</td>\n",
              "      <td>66.4</td>\n",
              "      <td>54.3</td>\n",
              "      <td>2824</td>\n",
              "      <td>ohc</td>\n",
              "      <td>five</td>\n",
              "      <td>136</td>\n",
              "      <td>mpfi</td>\n",
              "      <td>3.19</td>\n",
              "      <td>3.4</td>\n",
              "      <td>8.0</td>\n",
              "      <td>115</td>\n",
              "      <td>5500</td>\n",
              "      <td>18</td>\n",
              "      <td>22</td>\n",
              "      <td>17450</td>\n",
              "    </tr>\n",
              "  </tbody>\n",
              "</table>\n",
              "</div>"
            ],
            "text/plain": [
              "   symboling normalized-losses         make  ... city-mpg highway-mpg  price\n",
              "0          3               122  alfa-romero  ...       21          27  13495\n",
              "1          3               122  alfa-romero  ...       21          27  16500\n",
              "2          1               122  alfa-romero  ...       19          26  16500\n",
              "3          2               164         audi  ...       24          30  13950\n",
              "4          2               164         audi  ...       18          22  17450\n",
              "\n",
              "[5 rows x 26 columns]"
            ]
          },
          "metadata": {
            "tags": []
          },
          "execution_count": 16
        }
      ]
    },
    {
      "cell_type": "code",
      "metadata": {
        "colab": {
          "base_uri": "https://localhost:8080/"
        },
        "id": "GXTXFNeyeVTn",
        "outputId": "697826ef-ebaf-4814-f128-d69edec9254c"
      },
      "source": [
        "#list the data types for each column\r\n",
        "print(df.dtypes)"
      ],
      "execution_count": 17,
      "outputs": [
        {
          "output_type": "stream",
          "text": [
            "symboling              int64\n",
            "normalized-losses     object\n",
            "make                  object\n",
            "fuel-type             object\n",
            "aspiration            object\n",
            "num-of-doors          object\n",
            "body-style            object\n",
            "drive-wheels          object\n",
            "engine-location       object\n",
            "wheel-base           float64\n",
            "length               float64\n",
            "width                float64\n",
            "height               float64\n",
            "curb-weight            int64\n",
            "engine-type           object\n",
            "num-of-cylinders      object\n",
            "engine-size            int64\n",
            "fuel-system           object\n",
            "bore                  object\n",
            "stroke                object\n",
            "compression-ratio    float64\n",
            "horsepower            object\n",
            "peak-rpm              object\n",
            "city-mpg               int64\n",
            "highway-mpg            int64\n",
            "price                 object\n",
            "dtype: object\n"
          ],
          "name": "stdout"
        }
      ]
    },
    {
      "cell_type": "markdown",
      "metadata": {
        "id": "YoDNuIyPegA_"
      },
      "source": [
        "**Convert data types to proper format**"
      ]
    },
    {
      "cell_type": "code",
      "metadata": {
        "id": "-OEAeJbRenZ1"
      },
      "source": [
        "df[[\"bore\", \"stroke\"]] = df[[\"bore\", \"stroke\"]].astype(\"float\")\r\n",
        "df[[\"normalized-losses\"]] = df[[\"normalized-losses\"]].astype(\"int\")\r\n",
        "df[[\"price\"]] = df[[\"price\"]].astype(\"float\")\r\n",
        "df[[\"peak-rpm\"]] = df[[\"peak-rpm\"]].astype(\"float\")\r\n"
      ],
      "execution_count": 18,
      "outputs": []
    },
    {
      "cell_type": "code",
      "metadata": {
        "colab": {
          "base_uri": "https://localhost:8080/"
        },
        "id": "PAB7F-Ouewv3",
        "outputId": "d2569709-2679-4b17-df9d-850931c57073"
      },
      "source": [
        "df.dtypes"
      ],
      "execution_count": 19,
      "outputs": [
        {
          "output_type": "execute_result",
          "data": {
            "text/plain": [
              "symboling              int64\n",
              "normalized-losses      int64\n",
              "make                  object\n",
              "fuel-type             object\n",
              "aspiration            object\n",
              "num-of-doors          object\n",
              "body-style            object\n",
              "drive-wheels          object\n",
              "engine-location       object\n",
              "wheel-base           float64\n",
              "length               float64\n",
              "width                float64\n",
              "height               float64\n",
              "curb-weight            int64\n",
              "engine-type           object\n",
              "num-of-cylinders      object\n",
              "engine-size            int64\n",
              "fuel-system           object\n",
              "bore                 float64\n",
              "stroke               float64\n",
              "compression-ratio    float64\n",
              "horsepower            object\n",
              "peak-rpm             float64\n",
              "city-mpg               int64\n",
              "highway-mpg            int64\n",
              "price                float64\n",
              "dtype: object"
            ]
          },
          "metadata": {
            "tags": []
          },
          "execution_count": 19
        }
      ]
    },
    {
      "cell_type": "markdown",
      "metadata": {
        "id": "Lu_ZcIV8hbka"
      },
      "source": [
        "The describe function automatically computes basic statistics for all continuous variables. Any NaN values are automatically skipped in these statistics.\r\n",
        "\r\n",
        "This will show: the count of that variable the mean the standard deviation (std) the minimum value the IQR (Interquartile Range: 25%, 50% and 75%) the maximum value"
      ]
    },
    {
      "cell_type": "code",
      "metadata": {
        "colab": {
          "base_uri": "https://localhost:8080/",
          "height": 337
        },
        "id": "hCAoNzfZhy_9",
        "outputId": "07b4ca1c-e04d-4556-9a6f-20225aec3a1c"
      },
      "source": [
        "df.describe()"
      ],
      "execution_count": 20,
      "outputs": [
        {
          "output_type": "execute_result",
          "data": {
            "text/html": [
              "<div>\n",
              "<style scoped>\n",
              "    .dataframe tbody tr th:only-of-type {\n",
              "        vertical-align: middle;\n",
              "    }\n",
              "\n",
              "    .dataframe tbody tr th {\n",
              "        vertical-align: top;\n",
              "    }\n",
              "\n",
              "    .dataframe thead th {\n",
              "        text-align: right;\n",
              "    }\n",
              "</style>\n",
              "<table border=\"1\" class=\"dataframe\">\n",
              "  <thead>\n",
              "    <tr style=\"text-align: right;\">\n",
              "      <th></th>\n",
              "      <th>symboling</th>\n",
              "      <th>normalized-losses</th>\n",
              "      <th>wheel-base</th>\n",
              "      <th>length</th>\n",
              "      <th>width</th>\n",
              "      <th>height</th>\n",
              "      <th>curb-weight</th>\n",
              "      <th>engine-size</th>\n",
              "      <th>bore</th>\n",
              "      <th>stroke</th>\n",
              "      <th>compression-ratio</th>\n",
              "      <th>peak-rpm</th>\n",
              "      <th>city-mpg</th>\n",
              "      <th>highway-mpg</th>\n",
              "      <th>price</th>\n",
              "    </tr>\n",
              "  </thead>\n",
              "  <tbody>\n",
              "    <tr>\n",
              "      <th>count</th>\n",
              "      <td>201.000000</td>\n",
              "      <td>201.00000</td>\n",
              "      <td>201.000000</td>\n",
              "      <td>201.000000</td>\n",
              "      <td>201.000000</td>\n",
              "      <td>201.000000</td>\n",
              "      <td>201.000000</td>\n",
              "      <td>201.000000</td>\n",
              "      <td>201.000000</td>\n",
              "      <td>197.000000</td>\n",
              "      <td>201.000000</td>\n",
              "      <td>199.000000</td>\n",
              "      <td>201.000000</td>\n",
              "      <td>201.000000</td>\n",
              "      <td>201.000000</td>\n",
              "    </tr>\n",
              "    <tr>\n",
              "      <th>mean</th>\n",
              "      <td>0.840796</td>\n",
              "      <td>122.00000</td>\n",
              "      <td>98.797015</td>\n",
              "      <td>174.200995</td>\n",
              "      <td>65.889055</td>\n",
              "      <td>53.766667</td>\n",
              "      <td>2555.666667</td>\n",
              "      <td>126.875622</td>\n",
              "      <td>3.330692</td>\n",
              "      <td>3.256904</td>\n",
              "      <td>10.164279</td>\n",
              "      <td>5117.587940</td>\n",
              "      <td>25.179104</td>\n",
              "      <td>30.686567</td>\n",
              "      <td>13207.129353</td>\n",
              "    </tr>\n",
              "    <tr>\n",
              "      <th>std</th>\n",
              "      <td>1.254802</td>\n",
              "      <td>31.99625</td>\n",
              "      <td>6.066366</td>\n",
              "      <td>12.322175</td>\n",
              "      <td>2.101471</td>\n",
              "      <td>2.447822</td>\n",
              "      <td>517.296727</td>\n",
              "      <td>41.546834</td>\n",
              "      <td>0.268072</td>\n",
              "      <td>0.319256</td>\n",
              "      <td>4.004965</td>\n",
              "      <td>480.521824</td>\n",
              "      <td>6.423220</td>\n",
              "      <td>6.815150</td>\n",
              "      <td>7947.066342</td>\n",
              "    </tr>\n",
              "    <tr>\n",
              "      <th>min</th>\n",
              "      <td>-2.000000</td>\n",
              "      <td>65.00000</td>\n",
              "      <td>86.600000</td>\n",
              "      <td>141.100000</td>\n",
              "      <td>60.300000</td>\n",
              "      <td>47.800000</td>\n",
              "      <td>1488.000000</td>\n",
              "      <td>61.000000</td>\n",
              "      <td>2.540000</td>\n",
              "      <td>2.070000</td>\n",
              "      <td>7.000000</td>\n",
              "      <td>4150.000000</td>\n",
              "      <td>13.000000</td>\n",
              "      <td>16.000000</td>\n",
              "      <td>5118.000000</td>\n",
              "    </tr>\n",
              "    <tr>\n",
              "      <th>25%</th>\n",
              "      <td>0.000000</td>\n",
              "      <td>101.00000</td>\n",
              "      <td>94.500000</td>\n",
              "      <td>166.800000</td>\n",
              "      <td>64.100000</td>\n",
              "      <td>52.000000</td>\n",
              "      <td>2169.000000</td>\n",
              "      <td>98.000000</td>\n",
              "      <td>3.150000</td>\n",
              "      <td>3.110000</td>\n",
              "      <td>8.600000</td>\n",
              "      <td>4800.000000</td>\n",
              "      <td>19.000000</td>\n",
              "      <td>25.000000</td>\n",
              "      <td>7775.000000</td>\n",
              "    </tr>\n",
              "    <tr>\n",
              "      <th>50%</th>\n",
              "      <td>1.000000</td>\n",
              "      <td>122.00000</td>\n",
              "      <td>97.000000</td>\n",
              "      <td>173.200000</td>\n",
              "      <td>65.500000</td>\n",
              "      <td>54.100000</td>\n",
              "      <td>2414.000000</td>\n",
              "      <td>120.000000</td>\n",
              "      <td>3.310000</td>\n",
              "      <td>3.290000</td>\n",
              "      <td>9.000000</td>\n",
              "      <td>5200.000000</td>\n",
              "      <td>24.000000</td>\n",
              "      <td>30.000000</td>\n",
              "      <td>10295.000000</td>\n",
              "    </tr>\n",
              "    <tr>\n",
              "      <th>75%</th>\n",
              "      <td>2.000000</td>\n",
              "      <td>137.00000</td>\n",
              "      <td>102.400000</td>\n",
              "      <td>183.500000</td>\n",
              "      <td>66.600000</td>\n",
              "      <td>55.500000</td>\n",
              "      <td>2926.000000</td>\n",
              "      <td>141.000000</td>\n",
              "      <td>3.580000</td>\n",
              "      <td>3.410000</td>\n",
              "      <td>9.400000</td>\n",
              "      <td>5500.000000</td>\n",
              "      <td>30.000000</td>\n",
              "      <td>34.000000</td>\n",
              "      <td>16500.000000</td>\n",
              "    </tr>\n",
              "    <tr>\n",
              "      <th>max</th>\n",
              "      <td>3.000000</td>\n",
              "      <td>256.00000</td>\n",
              "      <td>120.900000</td>\n",
              "      <td>208.100000</td>\n",
              "      <td>72.000000</td>\n",
              "      <td>59.800000</td>\n",
              "      <td>4066.000000</td>\n",
              "      <td>326.000000</td>\n",
              "      <td>3.940000</td>\n",
              "      <td>4.170000</td>\n",
              "      <td>23.000000</td>\n",
              "      <td>6600.000000</td>\n",
              "      <td>49.000000</td>\n",
              "      <td>54.000000</td>\n",
              "      <td>45400.000000</td>\n",
              "    </tr>\n",
              "  </tbody>\n",
              "</table>\n",
              "</div>"
            ],
            "text/plain": [
              "        symboling  normalized-losses  ...  highway-mpg         price\n",
              "count  201.000000          201.00000  ...   201.000000    201.000000\n",
              "mean     0.840796          122.00000  ...    30.686567  13207.129353\n",
              "std      1.254802           31.99625  ...     6.815150   7947.066342\n",
              "min     -2.000000           65.00000  ...    16.000000   5118.000000\n",
              "25%      0.000000          101.00000  ...    25.000000   7775.000000\n",
              "50%      1.000000          122.00000  ...    30.000000  10295.000000\n",
              "75%      2.000000          137.00000  ...    34.000000  16500.000000\n",
              "max      3.000000          256.00000  ...    54.000000  45400.000000\n",
              "\n",
              "[8 rows x 15 columns]"
            ]
          },
          "metadata": {
            "tags": []
          },
          "execution_count": 20
        }
      ]
    },
    {
      "cell_type": "markdown",
      "metadata": {
        "id": "D39Hjh5-iMib"
      },
      "source": [
        "**We can apply the method \"describe\" on the variables of type 'object' as follows:**"
      ]
    },
    {
      "cell_type": "code",
      "metadata": {
        "colab": {
          "base_uri": "https://localhost:8080/",
          "height": 209
        },
        "id": "ZwhpgqyNiObn",
        "outputId": "026a9551-daac-492d-d65b-78b87f3d5c78"
      },
      "source": [
        "df.describe(include=['object'])"
      ],
      "execution_count": 21,
      "outputs": [
        {
          "output_type": "execute_result",
          "data": {
            "text/html": [
              "<div>\n",
              "<style scoped>\n",
              "    .dataframe tbody tr th:only-of-type {\n",
              "        vertical-align: middle;\n",
              "    }\n",
              "\n",
              "    .dataframe tbody tr th {\n",
              "        vertical-align: top;\n",
              "    }\n",
              "\n",
              "    .dataframe thead th {\n",
              "        text-align: right;\n",
              "    }\n",
              "</style>\n",
              "<table border=\"1\" class=\"dataframe\">\n",
              "  <thead>\n",
              "    <tr style=\"text-align: right;\">\n",
              "      <th></th>\n",
              "      <th>make</th>\n",
              "      <th>fuel-type</th>\n",
              "      <th>aspiration</th>\n",
              "      <th>num-of-doors</th>\n",
              "      <th>body-style</th>\n",
              "      <th>drive-wheels</th>\n",
              "      <th>engine-location</th>\n",
              "      <th>engine-type</th>\n",
              "      <th>num-of-cylinders</th>\n",
              "      <th>fuel-system</th>\n",
              "      <th>horsepower</th>\n",
              "    </tr>\n",
              "  </thead>\n",
              "  <tbody>\n",
              "    <tr>\n",
              "      <th>count</th>\n",
              "      <td>201</td>\n",
              "      <td>201</td>\n",
              "      <td>201</td>\n",
              "      <td>201</td>\n",
              "      <td>201</td>\n",
              "      <td>201</td>\n",
              "      <td>201</td>\n",
              "      <td>201</td>\n",
              "      <td>201</td>\n",
              "      <td>201</td>\n",
              "      <td>199</td>\n",
              "    </tr>\n",
              "    <tr>\n",
              "      <th>unique</th>\n",
              "      <td>22</td>\n",
              "      <td>2</td>\n",
              "      <td>2</td>\n",
              "      <td>2</td>\n",
              "      <td>5</td>\n",
              "      <td>3</td>\n",
              "      <td>2</td>\n",
              "      <td>6</td>\n",
              "      <td>7</td>\n",
              "      <td>8</td>\n",
              "      <td>58</td>\n",
              "    </tr>\n",
              "    <tr>\n",
              "      <th>top</th>\n",
              "      <td>toyota</td>\n",
              "      <td>gas</td>\n",
              "      <td>std</td>\n",
              "      <td>four</td>\n",
              "      <td>sedan</td>\n",
              "      <td>fwd</td>\n",
              "      <td>front</td>\n",
              "      <td>ohc</td>\n",
              "      <td>four</td>\n",
              "      <td>mpfi</td>\n",
              "      <td>68</td>\n",
              "    </tr>\n",
              "    <tr>\n",
              "      <th>freq</th>\n",
              "      <td>32</td>\n",
              "      <td>181</td>\n",
              "      <td>165</td>\n",
              "      <td>115</td>\n",
              "      <td>94</td>\n",
              "      <td>118</td>\n",
              "      <td>198</td>\n",
              "      <td>145</td>\n",
              "      <td>157</td>\n",
              "      <td>92</td>\n",
              "      <td>19</td>\n",
              "    </tr>\n",
              "  </tbody>\n",
              "</table>\n",
              "</div>"
            ],
            "text/plain": [
              "          make fuel-type aspiration  ... num-of-cylinders fuel-system horsepower\n",
              "count      201       201        201  ...              201         201        199\n",
              "unique      22         2          2  ...                7           8         58\n",
              "top     toyota       gas        std  ...             four        mpfi         68\n",
              "freq        32       181        165  ...              157          92         19\n",
              "\n",
              "[4 rows x 11 columns]"
            ]
          },
          "metadata": {
            "tags": []
          },
          "execution_count": 21
        }
      ]
    },
    {
      "cell_type": "code",
      "metadata": {
        "colab": {
          "base_uri": "https://localhost:8080/",
          "height": 337
        },
        "id": "R_3UEfNRiUjR",
        "outputId": "2acd857b-892c-4b02-90bb-451725537591"
      },
      "source": [
        "df.describe(include=['float64'])"
      ],
      "execution_count": 22,
      "outputs": [
        {
          "output_type": "execute_result",
          "data": {
            "text/html": [
              "<div>\n",
              "<style scoped>\n",
              "    .dataframe tbody tr th:only-of-type {\n",
              "        vertical-align: middle;\n",
              "    }\n",
              "\n",
              "    .dataframe tbody tr th {\n",
              "        vertical-align: top;\n",
              "    }\n",
              "\n",
              "    .dataframe thead th {\n",
              "        text-align: right;\n",
              "    }\n",
              "</style>\n",
              "<table border=\"1\" class=\"dataframe\">\n",
              "  <thead>\n",
              "    <tr style=\"text-align: right;\">\n",
              "      <th></th>\n",
              "      <th>wheel-base</th>\n",
              "      <th>length</th>\n",
              "      <th>width</th>\n",
              "      <th>height</th>\n",
              "      <th>bore</th>\n",
              "      <th>stroke</th>\n",
              "      <th>compression-ratio</th>\n",
              "      <th>peak-rpm</th>\n",
              "      <th>price</th>\n",
              "    </tr>\n",
              "  </thead>\n",
              "  <tbody>\n",
              "    <tr>\n",
              "      <th>count</th>\n",
              "      <td>201.000000</td>\n",
              "      <td>201.000000</td>\n",
              "      <td>201.000000</td>\n",
              "      <td>201.000000</td>\n",
              "      <td>201.000000</td>\n",
              "      <td>197.000000</td>\n",
              "      <td>201.000000</td>\n",
              "      <td>199.000000</td>\n",
              "      <td>201.000000</td>\n",
              "    </tr>\n",
              "    <tr>\n",
              "      <th>mean</th>\n",
              "      <td>98.797015</td>\n",
              "      <td>174.200995</td>\n",
              "      <td>65.889055</td>\n",
              "      <td>53.766667</td>\n",
              "      <td>3.330692</td>\n",
              "      <td>3.256904</td>\n",
              "      <td>10.164279</td>\n",
              "      <td>5117.587940</td>\n",
              "      <td>13207.129353</td>\n",
              "    </tr>\n",
              "    <tr>\n",
              "      <th>std</th>\n",
              "      <td>6.066366</td>\n",
              "      <td>12.322175</td>\n",
              "      <td>2.101471</td>\n",
              "      <td>2.447822</td>\n",
              "      <td>0.268072</td>\n",
              "      <td>0.319256</td>\n",
              "      <td>4.004965</td>\n",
              "      <td>480.521824</td>\n",
              "      <td>7947.066342</td>\n",
              "    </tr>\n",
              "    <tr>\n",
              "      <th>min</th>\n",
              "      <td>86.600000</td>\n",
              "      <td>141.100000</td>\n",
              "      <td>60.300000</td>\n",
              "      <td>47.800000</td>\n",
              "      <td>2.540000</td>\n",
              "      <td>2.070000</td>\n",
              "      <td>7.000000</td>\n",
              "      <td>4150.000000</td>\n",
              "      <td>5118.000000</td>\n",
              "    </tr>\n",
              "    <tr>\n",
              "      <th>25%</th>\n",
              "      <td>94.500000</td>\n",
              "      <td>166.800000</td>\n",
              "      <td>64.100000</td>\n",
              "      <td>52.000000</td>\n",
              "      <td>3.150000</td>\n",
              "      <td>3.110000</td>\n",
              "      <td>8.600000</td>\n",
              "      <td>4800.000000</td>\n",
              "      <td>7775.000000</td>\n",
              "    </tr>\n",
              "    <tr>\n",
              "      <th>50%</th>\n",
              "      <td>97.000000</td>\n",
              "      <td>173.200000</td>\n",
              "      <td>65.500000</td>\n",
              "      <td>54.100000</td>\n",
              "      <td>3.310000</td>\n",
              "      <td>3.290000</td>\n",
              "      <td>9.000000</td>\n",
              "      <td>5200.000000</td>\n",
              "      <td>10295.000000</td>\n",
              "    </tr>\n",
              "    <tr>\n",
              "      <th>75%</th>\n",
              "      <td>102.400000</td>\n",
              "      <td>183.500000</td>\n",
              "      <td>66.600000</td>\n",
              "      <td>55.500000</td>\n",
              "      <td>3.580000</td>\n",
              "      <td>3.410000</td>\n",
              "      <td>9.400000</td>\n",
              "      <td>5500.000000</td>\n",
              "      <td>16500.000000</td>\n",
              "    </tr>\n",
              "    <tr>\n",
              "      <th>max</th>\n",
              "      <td>120.900000</td>\n",
              "      <td>208.100000</td>\n",
              "      <td>72.000000</td>\n",
              "      <td>59.800000</td>\n",
              "      <td>3.940000</td>\n",
              "      <td>4.170000</td>\n",
              "      <td>23.000000</td>\n",
              "      <td>6600.000000</td>\n",
              "      <td>45400.000000</td>\n",
              "    </tr>\n",
              "  </tbody>\n",
              "</table>\n",
              "</div>"
            ],
            "text/plain": [
              "       wheel-base      length  ...     peak-rpm         price\n",
              "count  201.000000  201.000000  ...   199.000000    201.000000\n",
              "mean    98.797015  174.200995  ...  5117.587940  13207.129353\n",
              "std      6.066366   12.322175  ...   480.521824   7947.066342\n",
              "min     86.600000  141.100000  ...  4150.000000   5118.000000\n",
              "25%     94.500000  166.800000  ...  4800.000000   7775.000000\n",
              "50%     97.000000  173.200000  ...  5200.000000  10295.000000\n",
              "75%    102.400000  183.500000  ...  5500.000000  16500.000000\n",
              "max    120.900000  208.100000  ...  6600.000000  45400.000000\n",
              "\n",
              "[8 rows x 9 columns]"
            ]
          },
          "metadata": {
            "tags": []
          },
          "execution_count": 22
        }
      ]
    },
    {
      "cell_type": "code",
      "metadata": {
        "colab": {
          "base_uri": "https://localhost:8080/",
          "height": 121
        },
        "id": "i1eLj4iliiad",
        "outputId": "69ff87df-f17a-469a-9e21-8b9b1ee5ab82"
      },
      "source": [
        "#check for duplicates\r\n",
        "duplicate = df.duplicated()\r\n",
        "print(duplicate.sum())\r\n",
        "df[duplicate]"
      ],
      "execution_count": 23,
      "outputs": [
        {
          "output_type": "stream",
          "text": [
            "0\n"
          ],
          "name": "stdout"
        },
        {
          "output_type": "execute_result",
          "data": {
            "text/html": [
              "<div>\n",
              "<style scoped>\n",
              "    .dataframe tbody tr th:only-of-type {\n",
              "        vertical-align: middle;\n",
              "    }\n",
              "\n",
              "    .dataframe tbody tr th {\n",
              "        vertical-align: top;\n",
              "    }\n",
              "\n",
              "    .dataframe thead th {\n",
              "        text-align: right;\n",
              "    }\n",
              "</style>\n",
              "<table border=\"1\" class=\"dataframe\">\n",
              "  <thead>\n",
              "    <tr style=\"text-align: right;\">\n",
              "      <th></th>\n",
              "      <th>symboling</th>\n",
              "      <th>normalized-losses</th>\n",
              "      <th>make</th>\n",
              "      <th>fuel-type</th>\n",
              "      <th>aspiration</th>\n",
              "      <th>num-of-doors</th>\n",
              "      <th>body-style</th>\n",
              "      <th>drive-wheels</th>\n",
              "      <th>engine-location</th>\n",
              "      <th>wheel-base</th>\n",
              "      <th>length</th>\n",
              "      <th>width</th>\n",
              "      <th>height</th>\n",
              "      <th>curb-weight</th>\n",
              "      <th>engine-type</th>\n",
              "      <th>num-of-cylinders</th>\n",
              "      <th>engine-size</th>\n",
              "      <th>fuel-system</th>\n",
              "      <th>bore</th>\n",
              "      <th>stroke</th>\n",
              "      <th>compression-ratio</th>\n",
              "      <th>horsepower</th>\n",
              "      <th>peak-rpm</th>\n",
              "      <th>city-mpg</th>\n",
              "      <th>highway-mpg</th>\n",
              "      <th>price</th>\n",
              "    </tr>\n",
              "  </thead>\n",
              "  <tbody>\n",
              "  </tbody>\n",
              "</table>\n",
              "</div>"
            ],
            "text/plain": [
              "Empty DataFrame\n",
              "Columns: [symboling, normalized-losses, make, fuel-type, aspiration, num-of-doors, body-style, drive-wheels, engine-location, wheel-base, length, width, height, curb-weight, engine-type, num-of-cylinders, engine-size, fuel-system, bore, stroke, compression-ratio, horsepower, peak-rpm, city-mpg, highway-mpg, price]\n",
              "Index: []"
            ]
          },
          "metadata": {
            "tags": []
          },
          "execution_count": 23
        }
      ]
    },
    {
      "cell_type": "markdown",
      "metadata": {
        "id": "1ho1nou6Xsfl"
      },
      "source": [
        "##**Exploring the data**"
      ]
    },
    {
      "cell_type": "markdown",
      "metadata": {
        "id": "E6jyBQ8wXsfm"
      },
      "source": [
        "We frequently encounter the situation where we would like to understand how a particular variable is distributed in a dataset. \n",
        "\n",
        "**Frequency table**\n",
        "\n",
        "A tally of the count of numeric data values that fall into a set of intervals (bins).\n",
        "    \n",
        "![](https://drive.google.com/uc?export=view&id=1Vc7cxXbP-5drXQNIzIUh9T6Nf5NaP6sE)\n",
        "\n",
        "[source](https://clauswilke.com/dataviz/histograms-density-plots.html)\n",
        "\n",
        "**Histogram**\n",
        "\n",
        "A plot of the frequency table with the bins on the x-axis and the count (or proportion) on the y-axis.\n",
        "A histogram is a way to visualize a frequency table, with bins on the x-axis and data count on the y-axis. \n",
        "Data are binned into intervals and height of the bars represent the number of cases that fall into each interval.\n",
        "They are also very useful for identifying shapes of distributions. When the bin width is too wide, we might lose interesting details. When the bin width is too narrow, It might be difficult to get an overall picture of the distribution. The ideal bin width depends on the data you’re working with.\n",
        " In general, histograms are plotted such that:\n",
        "\n",
        "    Empty bins are included in the graph.\n",
        "\n",
        "    Bins are equal width.\n",
        "\n",
        "    Number of bins (or, equivalently, bin size) is up to the user.\n",
        "\n",
        "    Bars are contiguous—no empty space shows between bars, unless there is an empty bin.\n",
        "\n",
        "\n",
        "![](https://drive.google.com/uc?export=view&id=1XIgjr57dVhn78uSSMlBpzyosYKR56Uzs)\n",
        "\n",
        "[source](https://statistics.laerd.com/statistical-guides/understanding-histograms.php)\n",
        "\n",
        "**Density Plot**\n",
        "\n",
        "Related to the histogram is a density plot, a smooth version of the histogram, which shows the distribution of data values as a continuous line. A density plot can be thought of as a smoothed histogram, although it is typically computed directly from the data through a kernel density estimate.\n",
        "![](https://drive.google.com/uc?export=view&id=1c8IlHdeY_yVU23uxvQWw6s15BuNI3Yea)\n",
        "\n",
        "[source](https://towardsdatascience.com/histograms-and-density-plots-in-python-f6bda88f5ac0)\n",
        "\n",
        "\n",
        "**Boxplots**\n",
        "\n",
        "(Box and whiskers plot), are based on percentiles and give a quick way to visualize the distribution of data.\n",
        "\n",
        "\n",
        "![](https://drive.google.com/uc?export=view&id=1Q6YlY_QRPaK6Pi4AeJrMMEhUsbSnPAz4)\n",
        "\n",
        "[source](https://www.google.com/imgres?imgurl=https%3A%2F%2Fdata-flair.training%2Fblogs%2Fwp-content%2Fuploads%2Fsites%2F2%2F2018%2F10%2Fbpw.png&imgrefurl=https%3A%2F%2Fdata-flair.training%2Fblogs%2Fqlikview-box-plot-wizard%2F&tbnid=nGZG6Yf8vTThRM&vet=12ahUKEwjvotLE0bjuAhWS2lkKHd_5DqgQMygFegUIARCgAQ..i&docid=R5yXFF0jMra-HM&w=441&h=459&q=box%20plot%20ibm%20developer&ved=2ahUKEwjvotLE0bjuAhWS2lkKHd_5DqgQMygFegUIARCgAQ)\n",
        "\n",
        "\n",
        "![](https://drive.google.com/uc?export=view&id=1T4EI8S2LWrGxw6muygr1ZIl6ZOHDGHJN)\n",
        "\n",
        "[source](https://www.google.com/imgres?imgurl=https%3A%2F%2Fmiro.medium.com%2Fmax%2F1200%2F1*2c21SkzJMf3frPXPAR_gZA.png&imgrefurl=https%3A%2F%2Ftowardsdatascience.com%2Funderstanding-boxplots-5e2df7bcbd51&tbnid=uPp4NzKBIJ_T0M&vet=12ahUKEwjvotLE0bjuAhWS2lkKHd_5DqgQMygXegUIARDFAQ..i&docid=wN67PhrXOIxYuM&w=1200&h=600&q=box%20plot%20ibm%20developer&ved=2ahUKEwjvotLE0bjuAhWS2lkKHd_5DqgQMygXegUIARDFAQ)\n",
        "\n",
        "The top and bottom of the box are the 75th and 25th percentiles, respectively. The median is shown by the horizontal line in the box. The dashed lines, referred to as whiskers, extend from the top and bottom to indicate the range for the bulk of the data. \n",
        "\n"
      ]
    },
    {
      "cell_type": "code",
      "metadata": {
        "colab": {
          "base_uri": "https://localhost:8080/",
          "height": 607
        },
        "id": "Gn6F1bzdXsgH",
        "outputId": "b4031da5-bc6a-4888-f0b2-c02b19a9237c"
      },
      "source": [
        "#histograms for each variable in df\n",
        "hist = df.hist(bins=10,figsize =(10,10))"
      ],
      "execution_count": 24,
      "outputs": [
        {
          "output_type": "display_data",
          "data": {
            "image/png": "[encoded data removed]",
            "text/plain": [
              "<Figure size 720x720 with 16 Axes>"
            ]
          },
          "metadata": {
            "tags": [],
            "needs_background": "light"
          }
        }
      ]
    },
    {
      "cell_type": "code",
      "metadata": {
        "colab": {
          "base_uri": "https://localhost:8080/",
          "height": 367
        },
        "id": "bton_2IvyL-l",
        "outputId": "cb24067a-4377-4f11-be14-7ba23dcbfdfc"
      },
      "source": [
        "\r\n",
        "# seaborn histogram\r\n",
        "sns.distplot(df['symboling'], hist=True, kde=False, \r\n",
        "             bins=int(180/5), color = 'blue',\r\n",
        "             hist_kws={'edgecolor':'black'})\r\n",
        "# Add labels\r\n",
        "plt.title('Histogram of Stroke')\r\n",
        "plt.xlabel('stroke')\r\n",
        "plt.ylabel('Density')"
      ],
      "execution_count": 25,
      "outputs": [
        {
          "output_type": "stream",
          "text": [
            "/usr/local/lib/python3.6/dist-packages/seaborn/distributions.py:2557: FutureWarning: `distplot` is a deprecated function and will be removed in a future version. Please adapt your code to use either `displot` (a figure-level function with similar flexibility) or `histplot` (an axes-level function for histograms).\n",
            "  warnings.warn(msg, FutureWarning)\n"
          ],
          "name": "stderr"
        },
        {
          "output_type": "execute_result",
          "data": {
            "text/plain": [
              "Text(0, 0.5, 'Density')"
            ]
          },
          "metadata": {
            "tags": []
          },
          "execution_count": 25
        },
        {
          "output_type": "display_data",
          "data": {
            "image/png": "[encoded data removed]",
            "text/plain": [
              "<Figure size 432x288 with 1 Axes>"
            ]
          },
          "metadata": {
            "tags": [],
            "needs_background": "light"
          }
        }
      ]
    },
    {
      "cell_type": "code",
      "metadata": {
        "colab": {
          "base_uri": "https://localhost:8080/",
          "height": 351
        },
        "id": "iVOoDbOv3mZK",
        "outputId": "5d70de5c-2967-4d43-bd19-2afb6995b43b"
      },
      "source": [
        "# Density Plot and Histogram of all arrival delays\r\n",
        "sns.distplot(df['compression-ratio'], hist=True, kde=True, \r\n",
        "             bins=int(180/5), color = 'darkblue', \r\n",
        "             hist_kws={'edgecolor':'black'},\r\n",
        "             kde_kws={'linewidth': 4})"
      ],
      "execution_count": 26,
      "outputs": [
        {
          "output_type": "stream",
          "text": [
            "/usr/local/lib/python3.6/dist-packages/seaborn/distributions.py:2557: FutureWarning: `distplot` is a deprecated function and will be removed in a future version. Please adapt your code to use either `displot` (a figure-level function with similar flexibility) or `histplot` (an axes-level function for histograms).\n",
            "  warnings.warn(msg, FutureWarning)\n"
          ],
          "name": "stderr"
        },
        {
          "output_type": "execute_result",
          "data": {
            "text/plain": [
              "<matplotlib.axes._subplots.AxesSubplot at 0x7f78271b55c0>"
            ]
          },
          "metadata": {
            "tags": []
          },
          "execution_count": 26
        },
        {
          "output_type": "display_data",
          "data": {
            "image/png": "[encoded data removed]",
            "text/plain": [
              "<Figure size 432x288 with 1 Axes>"
            ]
          },
          "metadata": {
            "tags": [],
            "needs_background": "light"
          }
        }
      ]
    },
    {
      "cell_type": "code",
      "metadata": {
        "colab": {
          "base_uri": "https://localhost:8080/",
          "height": 351
        },
        "id": "UwLNTMrD31Hf",
        "outputId": "a832dc19-7c8f-4def-988b-3f452c8d28eb"
      },
      "source": [
        "# Density Plot and Histogram of all arrival delays\r\n",
        "sns.distplot(df['horsepower'], hist=True, kde=True, \r\n",
        "             bins=int(180/5), color = 'darkblue', \r\n",
        "             hist_kws={'edgecolor':'black'},\r\n",
        "             kde_kws={'linewidth': 4})"
      ],
      "execution_count": 27,
      "outputs": [
        {
          "output_type": "stream",
          "text": [
            "/usr/local/lib/python3.6/dist-packages/seaborn/distributions.py:2557: FutureWarning: `distplot` is a deprecated function and will be removed in a future version. Please adapt your code to use either `displot` (a figure-level function with similar flexibility) or `histplot` (an axes-level function for histograms).\n",
            "  warnings.warn(msg, FutureWarning)\n"
          ],
          "name": "stderr"
        },
        {
          "output_type": "execute_result",
          "data": {
            "text/plain": [
              "<matplotlib.axes._subplots.AxesSubplot at 0x7f7827041940>"
            ]
          },
          "metadata": {
            "tags": []
          },
          "execution_count": 27
        },
        {
          "output_type": "display_data",
          "data": {
            "image/png": "[encoded data removed]",
            "text/plain": [
              "<Figure size 432x288 with 1 Axes>"
            ]
          },
          "metadata": {
            "tags": [],
            "needs_background": "light"
          }
        }
      ]
    },
    {
      "cell_type": "markdown",
      "metadata": {
        "id": "7Tfz07XGXsgH"
      },
      "source": [
        "**Distribution of the different categories of drive wheels over price using box plot**"
      ]
    },
    {
      "cell_type": "code",
      "metadata": {
        "colab": {
          "base_uri": "https://localhost:8080/",
          "height": 279
        },
        "id": "jmSFIwU5XsgH",
        "outputId": "3a3032bf-4ffa-4177-a28a-9f1bdf4dc76f"
      },
      "source": [
        "sns.boxplot(x = 'drive-wheels', y='price', data =df)\n",
        "plt.show()"
      ],
      "execution_count": 28,
      "outputs": [
        {
          "output_type": "display_data",
          "data": {
            "image/png": "[encoded data removed]",
            "text/plain": [
              "<Figure size 432x288 with 1 Axes>"
            ]
          },
          "metadata": {
            "tags": [],
            "needs_background": "light"
          }
        }
      ]
    },
    {
      "cell_type": "code",
      "metadata": {
        "colab": {
          "base_uri": "https://localhost:8080/",
          "height": 296
        },
        "id": "nuaBezTZXsgI",
        "outputId": "86094758-b8cc-47fb-f3d1-b27444b53c8e"
      },
      "source": [
        "sns.boxplot(x=\"body-style\", y=\"price\", data=df)"
      ],
      "execution_count": 29,
      "outputs": [
        {
          "output_type": "execute_result",
          "data": {
            "text/plain": [
              "<matplotlib.axes._subplots.AxesSubplot at 0x7f7826f320f0>"
            ]
          },
          "metadata": {
            "tags": []
          },
          "execution_count": 29
        },
        {
          "output_type": "display_data",
          "data": {
            "image/png": "[encoded data removed]",
            "text/plain": [
              "<Figure size 432x288 with 1 Axes>"
            ]
          },
          "metadata": {
            "tags": [],
            "needs_background": "light"
          }
        }
      ]
    },
    {
      "cell_type": "code",
      "metadata": {
        "colab": {
          "base_uri": "https://localhost:8080/",
          "height": 296
        },
        "id": "4KRWWmoeXsgI",
        "outputId": "03e995c5-9f37-490d-ee57-56bf5cdbd700"
      },
      "source": [
        "sns.boxplot(x=\"engine-location\", y=\"price\", data=df)"
      ],
      "execution_count": 30,
      "outputs": [
        {
          "output_type": "execute_result",
          "data": {
            "text/plain": [
              "<matplotlib.axes._subplots.AxesSubplot at 0x7f7826e5ce80>"
            ]
          },
          "metadata": {
            "tags": []
          },
          "execution_count": 30
        },
        {
          "output_type": "display_data",
          "data": {
            "image/png": "[encoded data removed]",
            "text/plain": [
              "<Figure size 432x288 with 1 Axes>"
            ]
          },
          "metadata": {
            "tags": [],
            "needs_background": "light"
          }
        }
      ]
    },
    {
      "cell_type": "code",
      "metadata": {
        "colab": {
          "base_uri": "https://localhost:8080/",
          "height": 324
        },
        "id": "W3F9EtMGXsgJ",
        "outputId": "57c806af-a36e-4fe0-a2fe-5ce5dea83616"
      },
      "source": [
        "#create a boxplot for every column in df\n",
        "boxplot = df.boxplot(grid=False, vert=False,fontsize=15)"
      ],
      "execution_count": 31,
      "outputs": [
        {
          "output_type": "stream",
          "text": [
            "/usr/local/lib/python3.6/dist-packages/numpy/core/_asarray.py:83: VisibleDeprecationWarning: Creating an ndarray from ragged nested sequences (which is a list-or-tuple of lists-or-tuples-or ndarrays with different lengths or shapes) is deprecated. If you meant to do this, you must specify 'dtype=object' when creating the ndarray\n",
            "  return array(a, dtype, copy=False, order=order)\n"
          ],
          "name": "stderr"
        },
        {
          "output_type": "display_data",
          "data": {
            "image/png": "[encoded data removed]",
            "text/plain": [
              "<Figure size 432x288 with 1 Axes>"
            ]
          },
          "metadata": {
            "tags": [],
            "needs_background": "light"
          }
        }
      ]
    },
    {
      "cell_type": "markdown",
      "metadata": {
        "id": "y45m0zIHXsfn"
      },
      "source": [
        "##**Exploring Binary and Categorical Data**"
      ]
    },
    {
      "cell_type": "markdown",
      "metadata": {
        "id": "sHztXU1TXsfn"
      },
      "source": [
        "For categorical data, simple proportions or percentages tell the story of the data.\n",
        "\n",
        "**Mode**\n",
        "\n",
        "The most commonly occurring category or value in a data set.\n",
        "\n",
        "**Expected value**\n",
        "\n",
        "When the categories can be associated with a numeric value, this gives an average value based on a category’s probability of occurrence.\n",
        "\n",
        "\n",
        "**Pie charts**\n",
        "\n",
        "The frequency or proportion for each category plotted as wedges in a pie.\n",
        "\n",
        "Getting a summary of a binary variable or a categorical variable with a few categories is a fairly easy matter: we just figure out the proportion of 1s, or of the important categories. \n",
        "\n",
        "**Bar charts**\n",
        "\n",
        "The frequency or proportion for each category plotted as bars.\n",
        "\n",
        "\n",
        "Bar charts are a common visual tool for displaying a single categorical variable, often seen in the popular press. Categories are listed on the x-axis, and frequencies or proportions on the y-axis. \n",
        "\n",
        "![](https://drive.google.com/uc?export=view&id=1cjoIZhLMsUviMk6wQMmABm-pe-KbxfYd)\n",
        "\n",
        "[source](https://www.google.com/imgres?imgurl=https%3A%2F%2Fwww.perkinselearning.org%2Fsites%2Felearning.perkinsdev1.org%2Ffiles%2FBar%2520Chart.PNG&imgrefurl=https%3A%2F%2Fwww.perkinselearning.org%2Ftechnology%2Fblog%2Fcreating-accessible-bar-chart-pages-app-ios-11&tbnid=lMsAohMq_sJ4gM&vet=12ahUKEwiQvuT4yrjuAhUSgFkKHfOKDI0QMygCegUIARDWAQ..i&docid=Bc1n2-Anj4YMtM&w=2048&h=1536&q=bar%20chart&ved=2ahUKEwiQvuT4yrjuAhUSgFkKHfOKDI0QMygCegUIARDWAQ)\n",
        "\n",
        "Note that a bar chart resembles a histogram; in a bar chart the x-axis represents different categories of a factor variable, while in a histogram the x-axis represents values of a single variable on a numeric scale. In a histogram, the bars are typically shown touching each other, with gaps indicating values that did not occur in the data. In a bar chart, the bars are shown separate from one another.\n",
        "\n",
        "\n",
        "**Mode**\n",
        "\n",
        "The mode is the value—or values in case of a tie—that appears most often in the data. The mode is a simple summary statistic for categorical data, and it is generally not used for numeric data.\n",
        "\n",
        "**Expected Value**\n",
        "\n",
        "A special type of categorical data is data in which the categories represent or can be mapped to discrete values on the same scale.\n",
        "A marketer for a new cloud technology, for example, offers two levels of service, one priced at $300/month  and  another at $50/month. The marketer offers free webinars to generate leads, and the firm figures that 5% of the attendees will sign up for the $300 service, 15%  for the $50 service, and 80% will not sign up for anything. This data can be summed up, for financial purposes, in a single “expected value,” which is a form of weighted mean in which the weights are probabilities.\n",
        "\n",
        "The expected value is calculated as follows:\n",
        "\n",
        "    Multiply each outcome by its probability of occurring.\n",
        "\n",
        "    Sum these values.\n",
        "\n",
        "In the cloud service example, the expected value of a webinar attendee is thus $22.50 per month, calculated as follows:\n",
        "\n",
        "    E V = ( 0 . 05 ) ( 300 ) + ( 0 . 15 ) ( 50 ) + ( 0 . 80 ) ( 0 ) = 22 . 5\n",
        "\n",
        "The expected value is really a form of weighted mean: it adds the ideas of future expectations and probability weights, often based on subjective judgment. \n",
        "    "
      ]
    },
    {
      "cell_type": "markdown",
      "metadata": {
        "id": "k5-lUS7kXsgJ"
      },
      "source": [
        "##**Correlation  - Scatterplots**"
      ]
    },
    {
      "cell_type": "markdown",
      "metadata": {
        "id": "0eC018CRXsgK"
      },
      "source": [
        "Correlation is a measure of the extent of interdependence between variables. In other words, how are the features dependent on the variable, price? \n",
        "\n",
        "Scatter plots show how much one variable is affected by another. The relationship between two variables is called their correlation \n",
        "\n",
        "The closer the data points come to forming a straight line when plotted, the higher the correlation between the two variables, or the stronger the relationship. Correlation is Positive when the values increase together, and Correlation is Negative when one value decreases as the other increases.\n",
        "\n",
        "\n",
        "\n",
        "\n",
        "![](https://drive.google.com/uc?export=view&id=1bHWNNzMqjpsltioGt7acrq5SPb_0OZ3Y)\n",
        "\n",
        "[source](https://www.mathsisfun.com/data/images/correlation-examples.svg)\n",
        "\n",
        "\n"
      ]
    },
    {
      "cell_type": "code",
      "metadata": {
        "colab": {
          "base_uri": "https://localhost:8080/",
          "height": 591
        },
        "id": "Rbv3melpXsgK",
        "outputId": "1e15335c-3d0f-4529-f9bd-363eab2ded1a"
      },
      "source": [
        "df.corr()"
      ],
      "execution_count": 32,
      "outputs": [
        {
          "output_type": "execute_result",
          "data": {
            "text/html": [
              "<div>\n",
              "<style scoped>\n",
              "    .dataframe tbody tr th:only-of-type {\n",
              "        vertical-align: middle;\n",
              "    }\n",
              "\n",
              "    .dataframe tbody tr th {\n",
              "        vertical-align: top;\n",
              "    }\n",
              "\n",
              "    .dataframe thead th {\n",
              "        text-align: right;\n",
              "    }\n",
              "</style>\n",
              "<table border=\"1\" class=\"dataframe\">\n",
              "  <thead>\n",
              "    <tr style=\"text-align: right;\">\n",
              "      <th></th>\n",
              "      <th>symboling</th>\n",
              "      <th>normalized-losses</th>\n",
              "      <th>wheel-base</th>\n",
              "      <th>length</th>\n",
              "      <th>width</th>\n",
              "      <th>height</th>\n",
              "      <th>curb-weight</th>\n",
              "      <th>engine-size</th>\n",
              "      <th>bore</th>\n",
              "      <th>stroke</th>\n",
              "      <th>compression-ratio</th>\n",
              "      <th>peak-rpm</th>\n",
              "      <th>city-mpg</th>\n",
              "      <th>highway-mpg</th>\n",
              "      <th>price</th>\n",
              "    </tr>\n",
              "  </thead>\n",
              "  <tbody>\n",
              "    <tr>\n",
              "      <th>symboling</th>\n",
              "      <td>1.000000</td>\n",
              "      <td>0.466264</td>\n",
              "      <td>-0.535987</td>\n",
              "      <td>-0.365404</td>\n",
              "      <td>-0.242423</td>\n",
              "      <td>-0.550160</td>\n",
              "      <td>-0.233118</td>\n",
              "      <td>-0.110581</td>\n",
              "      <td>-0.140019</td>\n",
              "      <td>-0.008245</td>\n",
              "      <td>-0.182196</td>\n",
              "      <td>0.280635</td>\n",
              "      <td>-0.035527</td>\n",
              "      <td>0.036233</td>\n",
              "      <td>-0.082391</td>\n",
              "    </tr>\n",
              "    <tr>\n",
              "      <th>normalized-losses</th>\n",
              "      <td>0.466264</td>\n",
              "      <td>1.000000</td>\n",
              "      <td>-0.056661</td>\n",
              "      <td>0.019424</td>\n",
              "      <td>0.086802</td>\n",
              "      <td>-0.373737</td>\n",
              "      <td>0.099404</td>\n",
              "      <td>0.112360</td>\n",
              "      <td>-0.029862</td>\n",
              "      <td>0.055563</td>\n",
              "      <td>-0.114713</td>\n",
              "      <td>0.239544</td>\n",
              "      <td>-0.225016</td>\n",
              "      <td>-0.181877</td>\n",
              "      <td>0.133999</td>\n",
              "    </tr>\n",
              "    <tr>\n",
              "      <th>wheel-base</th>\n",
              "      <td>-0.535987</td>\n",
              "      <td>-0.056661</td>\n",
              "      <td>1.000000</td>\n",
              "      <td>0.876024</td>\n",
              "      <td>0.814507</td>\n",
              "      <td>0.590742</td>\n",
              "      <td>0.782097</td>\n",
              "      <td>0.572027</td>\n",
              "      <td>0.493244</td>\n",
              "      <td>0.158502</td>\n",
              "      <td>0.250313</td>\n",
              "      <td>-0.360593</td>\n",
              "      <td>-0.470606</td>\n",
              "      <td>-0.543304</td>\n",
              "      <td>0.584642</td>\n",
              "    </tr>\n",
              "    <tr>\n",
              "      <th>length</th>\n",
              "      <td>-0.365404</td>\n",
              "      <td>0.019424</td>\n",
              "      <td>0.876024</td>\n",
              "      <td>1.000000</td>\n",
              "      <td>0.857170</td>\n",
              "      <td>0.492063</td>\n",
              "      <td>0.880665</td>\n",
              "      <td>0.685025</td>\n",
              "      <td>0.608971</td>\n",
              "      <td>0.124139</td>\n",
              "      <td>0.159733</td>\n",
              "      <td>-0.286321</td>\n",
              "      <td>-0.665192</td>\n",
              "      <td>-0.698142</td>\n",
              "      <td>0.690628</td>\n",
              "    </tr>\n",
              "    <tr>\n",
              "      <th>width</th>\n",
              "      <td>-0.242423</td>\n",
              "      <td>0.086802</td>\n",
              "      <td>0.814507</td>\n",
              "      <td>0.857170</td>\n",
              "      <td>1.000000</td>\n",
              "      <td>0.306002</td>\n",
              "      <td>0.866201</td>\n",
              "      <td>0.729436</td>\n",
              "      <td>0.544885</td>\n",
              "      <td>0.188829</td>\n",
              "      <td>0.189867</td>\n",
              "      <td>-0.245975</td>\n",
              "      <td>-0.633531</td>\n",
              "      <td>-0.680635</td>\n",
              "      <td>0.751265</td>\n",
              "    </tr>\n",
              "    <tr>\n",
              "      <th>height</th>\n",
              "      <td>-0.550160</td>\n",
              "      <td>-0.373737</td>\n",
              "      <td>0.590742</td>\n",
              "      <td>0.492063</td>\n",
              "      <td>0.306002</td>\n",
              "      <td>1.000000</td>\n",
              "      <td>0.307581</td>\n",
              "      <td>0.074694</td>\n",
              "      <td>0.180449</td>\n",
              "      <td>-0.062704</td>\n",
              "      <td>0.259737</td>\n",
              "      <td>-0.311574</td>\n",
              "      <td>-0.049800</td>\n",
              "      <td>-0.104812</td>\n",
              "      <td>0.135486</td>\n",
              "    </tr>\n",
              "    <tr>\n",
              "      <th>curb-weight</th>\n",
              "      <td>-0.233118</td>\n",
              "      <td>0.099404</td>\n",
              "      <td>0.782097</td>\n",
              "      <td>0.880665</td>\n",
              "      <td>0.866201</td>\n",
              "      <td>0.307581</td>\n",
              "      <td>1.000000</td>\n",
              "      <td>0.849072</td>\n",
              "      <td>0.644060</td>\n",
              "      <td>0.167562</td>\n",
              "      <td>0.156433</td>\n",
              "      <td>-0.279375</td>\n",
              "      <td>-0.749543</td>\n",
              "      <td>-0.794889</td>\n",
              "      <td>0.834415</td>\n",
              "    </tr>\n",
              "    <tr>\n",
              "      <th>engine-size</th>\n",
              "      <td>-0.110581</td>\n",
              "      <td>0.112360</td>\n",
              "      <td>0.572027</td>\n",
              "      <td>0.685025</td>\n",
              "      <td>0.729436</td>\n",
              "      <td>0.074694</td>\n",
              "      <td>0.849072</td>\n",
              "      <td>1.000000</td>\n",
              "      <td>0.572609</td>\n",
              "      <td>0.209523</td>\n",
              "      <td>0.028889</td>\n",
              "      <td>-0.256773</td>\n",
              "      <td>-0.650546</td>\n",
              "      <td>-0.679571</td>\n",
              "      <td>0.872335</td>\n",
              "    </tr>\n",
              "    <tr>\n",
              "      <th>bore</th>\n",
              "      <td>-0.140019</td>\n",
              "      <td>-0.029862</td>\n",
              "      <td>0.493244</td>\n",
              "      <td>0.608971</td>\n",
              "      <td>0.544885</td>\n",
              "      <td>0.180449</td>\n",
              "      <td>0.644060</td>\n",
              "      <td>0.572609</td>\n",
              "      <td>1.000000</td>\n",
              "      <td>-0.055390</td>\n",
              "      <td>0.001263</td>\n",
              "      <td>-0.267785</td>\n",
              "      <td>-0.582027</td>\n",
              "      <td>-0.591309</td>\n",
              "      <td>0.543155</td>\n",
              "    </tr>\n",
              "    <tr>\n",
              "      <th>stroke</th>\n",
              "      <td>-0.008245</td>\n",
              "      <td>0.055563</td>\n",
              "      <td>0.158502</td>\n",
              "      <td>0.124139</td>\n",
              "      <td>0.188829</td>\n",
              "      <td>-0.062704</td>\n",
              "      <td>0.167562</td>\n",
              "      <td>0.209523</td>\n",
              "      <td>-0.055390</td>\n",
              "      <td>1.000000</td>\n",
              "      <td>0.187923</td>\n",
              "      <td>-0.068300</td>\n",
              "      <td>-0.034696</td>\n",
              "      <td>-0.035201</td>\n",
              "      <td>0.082310</td>\n",
              "    </tr>\n",
              "    <tr>\n",
              "      <th>compression-ratio</th>\n",
              "      <td>-0.182196</td>\n",
              "      <td>-0.114713</td>\n",
              "      <td>0.250313</td>\n",
              "      <td>0.159733</td>\n",
              "      <td>0.189867</td>\n",
              "      <td>0.259737</td>\n",
              "      <td>0.156433</td>\n",
              "      <td>0.028889</td>\n",
              "      <td>0.001263</td>\n",
              "      <td>0.187923</td>\n",
              "      <td>1.000000</td>\n",
              "      <td>-0.436015</td>\n",
              "      <td>0.331425</td>\n",
              "      <td>0.268465</td>\n",
              "      <td>0.071107</td>\n",
              "    </tr>\n",
              "    <tr>\n",
              "      <th>peak-rpm</th>\n",
              "      <td>0.280635</td>\n",
              "      <td>0.239544</td>\n",
              "      <td>-0.360593</td>\n",
              "      <td>-0.286321</td>\n",
              "      <td>-0.245975</td>\n",
              "      <td>-0.311574</td>\n",
              "      <td>-0.279375</td>\n",
              "      <td>-0.256773</td>\n",
              "      <td>-0.267785</td>\n",
              "      <td>-0.068300</td>\n",
              "      <td>-0.436015</td>\n",
              "      <td>1.000000</td>\n",
              "      <td>-0.115425</td>\n",
              "      <td>-0.058606</td>\n",
              "      <td>-0.101649</td>\n",
              "    </tr>\n",
              "    <tr>\n",
              "      <th>city-mpg</th>\n",
              "      <td>-0.035527</td>\n",
              "      <td>-0.225016</td>\n",
              "      <td>-0.470606</td>\n",
              "      <td>-0.665192</td>\n",
              "      <td>-0.633531</td>\n",
              "      <td>-0.049800</td>\n",
              "      <td>-0.749543</td>\n",
              "      <td>-0.650546</td>\n",
              "      <td>-0.582027</td>\n",
              "      <td>-0.034696</td>\n",
              "      <td>0.331425</td>\n",
              "      <td>-0.115425</td>\n",
              "      <td>1.000000</td>\n",
              "      <td>0.972044</td>\n",
              "      <td>-0.686571</td>\n",
              "    </tr>\n",
              "    <tr>\n",
              "      <th>highway-mpg</th>\n",
              "      <td>0.036233</td>\n",
              "      <td>-0.181877</td>\n",
              "      <td>-0.543304</td>\n",
              "      <td>-0.698142</td>\n",
              "      <td>-0.680635</td>\n",
              "      <td>-0.104812</td>\n",
              "      <td>-0.794889</td>\n",
              "      <td>-0.679571</td>\n",
              "      <td>-0.591309</td>\n",
              "      <td>-0.035201</td>\n",
              "      <td>0.268465</td>\n",
              "      <td>-0.058606</td>\n",
              "      <td>0.972044</td>\n",
              "      <td>1.000000</td>\n",
              "      <td>-0.704692</td>\n",
              "    </tr>\n",
              "    <tr>\n",
              "      <th>price</th>\n",
              "      <td>-0.082391</td>\n",
              "      <td>0.133999</td>\n",
              "      <td>0.584642</td>\n",
              "      <td>0.690628</td>\n",
              "      <td>0.751265</td>\n",
              "      <td>0.135486</td>\n",
              "      <td>0.834415</td>\n",
              "      <td>0.872335</td>\n",
              "      <td>0.543155</td>\n",
              "      <td>0.082310</td>\n",
              "      <td>0.071107</td>\n",
              "      <td>-0.101649</td>\n",
              "      <td>-0.686571</td>\n",
              "      <td>-0.704692</td>\n",
              "      <td>1.000000</td>\n",
              "    </tr>\n",
              "  </tbody>\n",
              "</table>\n",
              "</div>"
            ],
            "text/plain": [
              "                   symboling  normalized-losses  ...  highway-mpg     price\n",
              "symboling           1.000000           0.466264  ...     0.036233 -0.082391\n",
              "normalized-losses   0.466264           1.000000  ...    -0.181877  0.133999\n",
              "wheel-base         -0.535987          -0.056661  ...    -0.543304  0.584642\n",
              "length             -0.365404           0.019424  ...    -0.698142  0.690628\n",
              "width              -0.242423           0.086802  ...    -0.680635  0.751265\n",
              "height             -0.550160          -0.373737  ...    -0.104812  0.135486\n",
              "curb-weight        -0.233118           0.099404  ...    -0.794889  0.834415\n",
              "engine-size        -0.110581           0.112360  ...    -0.679571  0.872335\n",
              "bore               -0.140019          -0.029862  ...    -0.591309  0.543155\n",
              "stroke             -0.008245           0.055563  ...    -0.035201  0.082310\n",
              "compression-ratio  -0.182196          -0.114713  ...     0.268465  0.071107\n",
              "peak-rpm            0.280635           0.239544  ...    -0.058606 -0.101649\n",
              "city-mpg           -0.035527          -0.225016  ...     0.972044 -0.686571\n",
              "highway-mpg         0.036233          -0.181877  ...     1.000000 -0.704692\n",
              "price              -0.082391           0.133999  ...    -0.704692  1.000000\n",
              "\n",
              "[15 rows x 15 columns]"
            ]
          },
          "metadata": {
            "tags": []
          },
          "execution_count": 32
        }
      ]
    },
    {
      "cell_type": "markdown",
      "metadata": {
        "id": "xxLe4T9uXsgL"
      },
      "source": [
        "**Understanding relationship between continous variables, price and engine size. Using scatter plot to visualize if engine size can predict the price of a car**"
      ]
    },
    {
      "cell_type": "code",
      "metadata": {
        "colab": {
          "base_uri": "https://localhost:8080/",
          "height": 296
        },
        "id": "THEfxAM5XsgL",
        "outputId": "f6eca3a3-20ac-44b1-e399-37bd2b9bbca2"
      },
      "source": [
        "# Engine size as potential predictor variable of price\n",
        "sns.regplot(x=\"engine-size\", y=\"price\", data=df)\n",
        "plt.ylim(0,)"
      ],
      "execution_count": 33,
      "outputs": [
        {
          "output_type": "execute_result",
          "data": {
            "text/plain": [
              "(0.0, 53389.69073330586)"
            ]
          },
          "metadata": {
            "tags": []
          },
          "execution_count": 33
        },
        {
          "output_type": "display_data",
          "data": {
            "image/png": "[encoded data removed]",
            "text/plain": [
              "<Figure size 432x288 with 1 Axes>"
            ]
          },
          "metadata": {
            "tags": [],
            "needs_background": "light"
          }
        }
      ]
    },
    {
      "cell_type": "markdown",
      "metadata": {
        "id": "BW8PF5rDXsgM"
      },
      "source": [
        "**Highway mpg is a potential predictor variable of price **"
      ]
    },
    {
      "cell_type": "code",
      "metadata": {
        "colab": {
          "base_uri": "https://localhost:8080/",
          "height": 296
        },
        "id": "zh0q-I99XsgM",
        "outputId": "3feb4ad3-3f12-46d2-d8f7-3c4c652ecb02"
      },
      "source": [
        "sns.regplot(x=\"highway-mpg\", y=\"price\", data=df)"
      ],
      "execution_count": 34,
      "outputs": [
        {
          "output_type": "execute_result",
          "data": {
            "text/plain": [
              "<matplotlib.axes._subplots.AxesSubplot at 0x7f78276d8630>"
            ]
          },
          "metadata": {
            "tags": []
          },
          "execution_count": 34
        },
        {
          "output_type": "display_data",
          "data": {
            "image/png": "[encoded data removed]",
            "text/plain": [
              "<Figure size 432x288 with 1 Axes>"
            ]
          },
          "metadata": {
            "tags": [],
            "needs_background": "light"
          }
        }
      ]
    },
    {
      "cell_type": "markdown",
      "metadata": {
        "id": "bAbrbf8xXsgM"
      },
      "source": [
        "**Let's see if \"Peak-rpm\" as a predictor variable of \"price\".**"
      ]
    },
    {
      "cell_type": "code",
      "metadata": {
        "colab": {
          "base_uri": "https://localhost:8080/",
          "height": 296
        },
        "id": "xZQuHWQFXsgN",
        "outputId": "ac9d1e23-3003-495d-9b77-d0621f03cabc"
      },
      "source": [
        "sns.regplot(x=\"peak-rpm\", y=\"price\", data=df)"
      ],
      "execution_count": 35,
      "outputs": [
        {
          "output_type": "execute_result",
          "data": {
            "text/plain": [
              "<matplotlib.axes._subplots.AxesSubplot at 0x7f7826bbce10>"
            ]
          },
          "metadata": {
            "tags": []
          },
          "execution_count": 35
        },
        {
          "output_type": "display_data",
          "data": {
            "image/png": "[encoded data removed]",
            "text/plain": [
              "<Figure size 432x288 with 1 Axes>"
            ]
          },
          "metadata": {
            "tags": [],
            "needs_background": "light"
          }
        }
      ]
    },
    {
      "cell_type": "code",
      "metadata": {
        "colab": {
          "base_uri": "https://localhost:8080/",
          "height": 296
        },
        "id": "J9Jg9mSmXsgN",
        "outputId": "58b8aed9-0977-4b04-eb2d-462eae338045"
      },
      "source": [
        "sns.regplot(x=\"stroke\", y=\"price\", data=df)"
      ],
      "execution_count": 36,
      "outputs": [
        {
          "output_type": "execute_result",
          "data": {
            "text/plain": [
              "<matplotlib.axes._subplots.AxesSubplot at 0x7f7826ba7438>"
            ]
          },
          "metadata": {
            "tags": []
          },
          "execution_count": 36
        },
        {
          "output_type": "display_data",
          "data": {
            "image/png": "[encoded data removed]",
            "text/plain": [
              "<Figure size 432x288 with 1 Axes>"
            ]
          },
          "metadata": {
            "tags": [],
            "needs_background": "light"
          }
        }
      ]
    },
    {
      "cell_type": "markdown",
      "metadata": {
        "id": "b3SrY0HPZmdU"
      },
      "source": [
        "## Correlation Plot Matrix\r\n",
        "\r\n",
        "A scatter plot matrix is a grid (or matrix) of scatter plots used to visualize bivariate relationships between combinations of variables. Each scatter plot in the matrix visualizes the relationship between a pair of variables, allowing many relationships to be explored in one chart.\r\n"
      ]
    },
    {
      "cell_type": "code",
      "metadata": {
        "id": "bfLyvSh55otj",
        "colab": {
          "base_uri": "https://localhost:8080/",
          "height": 671
        },
        "outputId": "632a809b-9ddd-4df1-9f36-9f6fa81c0192"
      },
      "source": [
        "#Heat Map of Correlation\r\n",
        "df_corr = df.corr()\r\n",
        "fig, ax = plt.subplots(figsize=(10, 10))\r\n",
        "sns.heatmap(corr, annot=True, fmt=\".2f\", cmap='Blues',\r\n",
        "           vmin=-1, vmax=1, cbar_kws={\"shrink\": .8})\r\n",
        "plt.yticks(rotation=0)\r\n",
        "plt.show()"
      ],
      "execution_count": 47,
      "outputs": [
        {
          "output_type": "display_data",
          "data": {
            "image/png": "[encoded data removed]",
            "text/plain": [
              "<Figure size 720x720 with 2 Axes>"
            ]
          },
          "metadata": {
            "tags": [],
            "needs_background": "light"
          }
        }
      ]
    },
    {
      "cell_type": "markdown",
      "metadata": {
        "id": "VKh0woathYqK"
      },
      "source": [
        "#**Contour plots**\r\n",
        "Contours are plots for 3 dimensions to be represented on 2 dimensional surface. So the three variables are plotted such that two variables are on X and Y axis respectively and the third variable Z is represented by Contour (Slices or lines) shown on plot. \r\n",
        "\r\n",
        "The Independent Variables are usually restricted to X and Y space. Response Variable (Z) are lines or slices.\r\n",
        "\r\n",
        "USAGE :\r\n",
        "\r\n",
        "When we need to how our response variable Z changes as function of X and Y. These plots are very useful in obtaining interactions among variables as well, those can be studies by the obtained graph.\r\n",
        "\r\n",
        "The graph is very descriptive and it just tells us about behaviour of our variables. Sometimes to add descriptive value to graph the colour bar is set for contours to capture intensity/importance of these contours.\r\n",
        "\r\n",
        "Contour plots are maily used for geospatial data. Contours are also a useful surface representation. The distribution of the contour lines shows how values change across a surface. Where there is little change in a value, the lines are spaced farther apart. Where the values rise or fall rapidly, the lines are closer together. \r\n",
        "In Geospatial data are highly useful because they allow you to simultaneously visualize flat and steep areas.\r\n",
        "\r\n",
        "#**HEXABINNING PLOT**\r\n",
        "A Hexa binning plot is useful to represent the relationship of 2 numerical variables when you have a lot of data point. Instead of overlapping, the plotting window is split in several hexbins, and the number of points per hexbin is counted. It appears like a heatmap 2 variables showcasing their relationship but we can take go ahead and get two variables hexbin plot on basis of another variable rather than density."
      ]
    },
    {
      "cell_type": "code",
      "metadata": {
        "colab": {
          "base_uri": "https://localhost:8080/",
          "height": 286
        },
        "id": "jcYyxJ43g3NE",
        "outputId": "14c74da1-82dc-453a-c950-12efa6807b1a"
      },
      "source": [
        "df[\"horsepower\"] = df[\"horsepower\"].astype(\"float\")\r\n",
        "\r\n",
        "X, Y = np.meshgrid(df[\"horsepower\"], df[\"peak-rpm\"])\r\n",
        "Z = X - Y\r\n",
        "plt.contour(X, Y, Z, cmap='RdGy')\r\n",
        "plt.colorbar()"
      ],
      "execution_count": 38,
      "outputs": [
        {
          "output_type": "execute_result",
          "data": {
            "text/plain": [
              "<matplotlib.colorbar.Colorbar at 0x7f781c66d550>"
            ]
          },
          "metadata": {
            "tags": []
          },
          "execution_count": 38
        },
        {
          "output_type": "display_data",
          "data": {
            "image/png": "[encoded data removed]",
            "text/plain": [
              "<Figure size 432x288 with 2 Axes>"
            ]
          },
          "metadata": {
            "tags": [],
            "needs_background": "light"
          }
        }
      ]
    },
    {
      "cell_type": "code",
      "metadata": {
        "colab": {
          "base_uri": "https://localhost:8080/",
          "height": 275
        },
        "id": "cdyYraEOg7BR",
        "outputId": "1600a5ca-ce49-4d29-9494-a18d1f729aa2"
      },
      "source": [
        "\r\n",
        "df.plot.hexbin(x='horsepower', y='peak-rpm', gridsize=20)"
      ],
      "execution_count": 39,
      "outputs": [
        {
          "output_type": "execute_result",
          "data": {
            "text/plain": [
              "<matplotlib.axes._subplots.AxesSubplot at 0x7f781e1b1080>"
            ]
          },
          "metadata": {
            "tags": []
          },
          "execution_count": 39
        },
        {
          "output_type": "display_data",
          "data": {
            "image/png": "[encoded data removed]",
            "text/plain": [
              "<Figure size 432x288 with 2 Axes>"
            ]
          },
          "metadata": {
            "tags": [],
            "needs_background": "light"
          }
        }
      ]
    },
    {
      "cell_type": "code",
      "metadata": {
        "colab": {
          "base_uri": "https://localhost:8080/",
          "height": 269
        },
        "id": "eVOK2rHdhKqI",
        "outputId": "c2c8acb9-e5cf-4e6b-91c3-3af71b978bfe"
      },
      "source": [
        "\r\n",
        "df.plot.hexbin(x='horsepower',\r\n",
        "                    y='peak-rpm',\r\n",
        "                    C='price',\r\n",
        "                    reduce_C_function=np.sum,\r\n",
        "                    gridsize=10,\r\n",
        "                    cmap=\"viridis\")"
      ],
      "execution_count": 40,
      "outputs": [
        {
          "output_type": "execute_result",
          "data": {
            "text/plain": [
              "<matplotlib.axes._subplots.AxesSubplot at 0x7f781c5655f8>"
            ]
          },
          "metadata": {
            "tags": []
          },
          "execution_count": 40
        },
        {
          "output_type": "display_data",
          "data": {
            "image/png": "[encoded data removed]",
            "text/plain": [
              "<Figure size 432x288 with 2 Axes>"
            ]
          },
          "metadata": {
            "tags": [],
            "needs_background": "light"
          }
        }
      ]
    },
    {
      "cell_type": "markdown",
      "metadata": {
        "id": "l4FTn8iPXsfh"
      },
      "source": [
        "#**Probability**"
      ]
    },
    {
      "cell_type": "markdown",
      "metadata": {
        "id": "1wOg5jVTXsfj"
      },
      "source": [
        "The most basic definition would be the likelihood that some event will occur.\n",
        "\n",
        "The rule is simple. The desired outcome divided by all possible outcomes. The probability of an event is always between 0 and 1.\n",
        "\n",
        "**P(A), probability of A.**\n",
        "\n",
        "**Example 1:**\n",
        "    What are the chances of getting heads 3 times in a row?\n",
        "\n",
        "The sample space, which is a list of all the possible outcomes, has 8 possible outcomes: HHH, HHT, HTH, THH, etc. So, the probability of getting heads 3 times in a row is 1/8, or 12.5%.\n",
        "\n",
        "**Example 2:**\n",
        "    What are the odds I will roll a pair of dice and get two sixes?\n",
        "\n",
        "The sample space has 36 possible outcomes: (1,1), (1,2), (1,3), etc. Only one of those is the desired outcome (6,6). Our probability of rolling double sixes is 1/36.\n",
        "\n",
        "\n",
        "**Random Variable**\n",
        "\n",
        "A random variable is the outcome, a set of possible values (head or tail), of a random process (tossing a coin). When we toss a coin, we know that it can land on heads or tails, but we don’t know which one.Random variables can be discrete or continuous. Discrete can only take certain values while continuous can take any value (within a range).\n",
        "\n",
        "**Events**\n",
        "\n",
        "Independent events:\n",
        "\n",
        "Two processes are said to be independent if knowing the outcome of one provides no useful information about the outcome of the other.\n",
        "![](https://drive.google.com/uc?export=view&id=17zp_ul5bMaKdZE01umOlz2yjJT7jQpPO)\n",
        "\n",
        "[source](https://www.coursera.org/learn/probability-intro/lecture/D1m0l/independence)\n",
        "\n",
        "Dependent events: \n",
        "\n",
        "Two processes are said to be dependent if knowing the outcome of provides useful information about the outcome of the other. i.e It is affected by previous events\n",
        "E.g. What are your chances of getting 2 heads in a row if the first toss was a head.\n",
        "\n",
        "**Conditional Probability**\n",
        "\n",
        "This is used to define probability between dependent events.\n",
        "E.g Consider 2 events, A and B, where A occurs before B. Conditional probability is used to calculate the probability of Boccurring after A has occurred. The occurrence of A changes the probability of the occurrence of B.\n",
        "P(AnB) = P(B/A) X P(A)\n",
        "\n",
        "**Example 1:**\n",
        "\n",
        "Given a coin, what are your chances of getting two heads in nthe first two tosses?\n",
        "A = Getting head on first toss\n",
        "B = Getting head on second toss\n",
        "\n",
        "    P(A) = P(Getting head on first toss) = 1/2\n",
        "    P(B) = 1/2\n",
        "\n",
        "![](https://drive.google.com/uc?export=view&id=1W48_Nmnwk1XJ0ls50O3GjbXTCO88DxaG)\n",
        "\n",
        "\n",
        "There is a 12.5% chance of getting two heads on the first two tosses\n",
        "\n",
        "**Example 2:**\n",
        "\n",
        "What is the probability of getting a king after getting a queen from a deck of cards?\n",
        "A = Getting king on 1st draw\n",
        "B = Getting queen on 2nd draw\n",
        "\n",
        "    P(A) = P(Getting king on 1st draw)\n",
        "    = Total No of kingd/Total ouctcomes\n",
        "    = 4/52 \n",
        "    = 0.077\n",
        "\n",
        "    P(B/A) = No of queens after getting a king\n",
        "    = 4/51 \n",
        "    = 0.078\n",
        "\n",
        "    P(AnB) = P(B/A) X P(A) \n",
        "    = 0.078 * 0.077\n",
        "    = 0.006\n",
        "There is a 0.6% chance of getting a queen after getting a king."
      ]
    },
    {
      "cell_type": "markdown",
      "metadata": {
        "id": "hxbvVClEy6DL"
      },
      "source": [
        "#**Conclusion**"
      ]
    },
    {
      "cell_type": "markdown",
      "metadata": {
        "id": "NqAjeza4XsgN"
      },
      "source": [
        "We now have a better idea of what our data looks like and which variables are important to take into account when predicting the car price. We have narrowed it down to the following variables:\r\n",
        "\r\n",
        "Continuous numerical variables:\r\n",
        "\r\n",
        "    Length\r\n",
        "    Width\r\n",
        "    Curb-weight\r\n",
        "    Engine-size\r\n",
        "    Horsepower\r\n",
        "    City-mpg\r\n",
        "    Highway-mpg\r\n",
        "    Wheel-base\r\n",
        "    Bore\r\n",
        "\r\n",
        "Categorical variables:\r\n",
        "\r\n",
        "    Drive-wheels\r\n",
        "\r\n",
        "After this exploration,feeding the model with variables that meaningfully affect our target variable will improve our model's prediction performance.\r\n"
      ]
    },
    {
      "cell_type": "code",
      "metadata": {
        "id": "8jm4D8OFY2Pq"
      },
      "source": [
        ""
      ],
      "execution_count": null,
      "outputs": []
    }
  ]
}